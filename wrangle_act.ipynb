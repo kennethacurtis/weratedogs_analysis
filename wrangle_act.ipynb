{
 "cells": [
  {
   "cell_type": "markdown",
   "metadata": {},
   "source": [
    "Gathering, Cleaning, and Analyzing WeRateDogs Twitter Archive\n",
    "=================================================\n",
    "\n",
    "# Introduction\n",
    "\n",
    "This dataset comes from an archive of tweets from the Twitter user @dog_rates, also known as WeRateDogs. This account rates people's dogs along with a humorous comment about the dog. The dog then gets a rating that almost always has a denominator of 10. The numerators on the other hand, almost always go beyond 10, [because they're good dogs Brent](https://knowyourmeme.com/memes/theyre-good-dogs-brent). The account has over 7 million followers as of 2018. In this notebook, I will wrangle, clean, and analyze the twitter archive and other supporting data.\n",
    "\n",
    "### The Process\n",
    "\n",
    "The data for this project requires gathering from a few different sources. The twitter archive, `df_twitter`, comes from a file given to Udacity by WeRateDogs. The other file, `image_predictions` comes from Udacity's servers and will be downloaded by utilizing the `requests` library. All other data will be gathered by accessing the Twitter API and extracting the JSON of each tweet. I will then use the extracted JSON to add extra data to `df_twitter`. I also use the `BeautifulSoup` library to extract users that were tagged in the photos of the tweet. Once I gather all the data I need, I will clean and visualize it.\n",
    "\n",
    "### Twitter Archive\n",
    "\n",
    "The archive was downloaded using [this link](https://d17h27t6h515a5.cloudfront.net/topher/2017/August/59a4e958_twitter-archive-enhanced/twitter-archive-enhanced.csv). In the table there are a total of 17 columns. Most of these columns are described on the [twitter developer web page](https://developer.twitter.com/en/docs/tweets/data-dictionary/overview/tweet-object.html) on tweet objects. \n",
    "\n",
    "### Image Predictions\n",
    "\n",
    "This file was downloaded using [this link](https://d17h27t6h515a5.cloudfront.net/topher/2017/August/599fd2ad_image-predictions/image-predictions.tsv) and the `requests` library to save the file for analysis. The column descriptions are as follows:\n",
    "\n",
    "* tweet_id is the last part of the tweet URL after \"status/\" → https://twitter.com/dog_rates/status/889531135344209921\n",
    "* p1 is the algorithm's #1 prediction for the image in the tweet → golden retriever\n",
    "* p1_conf is how confident the algorithm is in its #1 prediction → 95%\n",
    "* p1_dog is whether or not the #1 prediction is a breed of dog → TRUE\n",
    "* p2 is the algorithm's second most likely prediction → Labrador retriever\n",
    "* p2_conf is how confident the algorithm is in its #2 prediction → 1%\n",
    "* p2_dog is whether or not the #2 prediction is a breed of dog → TRUE\n",
    "* etc.\n",
    "\n",
    "# Gather"
   ]
  },
  {
   "cell_type": "code",
   "execution_count": 2,
   "metadata": {},
   "outputs": [],
   "source": [
    "import requests\n",
    "import pandas as pd\n",
    "import tweepy\n",
    "import time\n",
    "import json\n",
    "from bs4 import BeautifulSoup\n",
    "import re\n",
    "from collections import defaultdict\n",
    "import os"
   ]
  },
  {
   "cell_type": "code",
   "execution_count": 102,
   "metadata": {},
   "outputs": [],
   "source": [
    "# get image-predictions.tsv with requests library\n",
    "r = requests.get('https://d17h27t6h515a5.cloudfront.net/topher/2017/August/599fd2ad_image-predictions/image-predictions.tsv')"
   ]
  },
  {
   "cell_type": "code",
   "execution_count": 103,
   "metadata": {},
   "outputs": [],
   "source": [
    "# save file\n",
    "with open('data/image-predictions.tsv', 'wb') as file:\n",
    "    file.write(r.content)"
   ]
  },
  {
   "cell_type": "markdown",
   "metadata": {},
   "source": [
    "Below, I wrote a script that loops through the `tweet_id` column and uses each ID to access the tweet JSON. I then store all of the json in a list, which then gets outputed to a text file at the end of the script. While the loop is running, it catches errors and stores the ID's in a list called `tweet_errors`. Also, the script will print out any ID's that it has errors with. It's nice to be able to track what your script is doing when it runs for such a long time. When you access the twitter API too much, you reach your rate limit. Once this happens, the script gets \"put to sleep\" for 15 to 30 minutes. This was one of the biggest challenges of this project. Since it takes roughly an hour for this script to run, it needed to be tested on a much smaller scale so there are zero errors when used on the dataset.\n",
    "\n",
    "While writing this script, I stumbled upon a very useful technique for gathering data. This method comes from the `collections` library. I imported a method called `defaultdict`. Essentially it makes a basic python dictionary, but with something a little extra. If the key in the dictionary is not present, it will put a new key with it's value in the dictionary. Once you need to add another value to the same key, it will add the value to the same key as a list. So no matter what, you will create a dictionary that you can later turn into a dataframe with a few lines of code.\n",
    "\n",
    "Once the JSON is dumped and the dictionary is turned into a dataframe, the dataframe is then turned into a csv file for later cleaning and analysis.\n",
    "\n",
    "Next, I will use the twitter API to access the JSON of each tweet. I will use each ID from the `tweet_id` column in `df_twitter`, save the JSON to a text file, then use that text file to find more data on each tweet."
   ]
  },
  {
   "cell_type": "code",
   "execution_count": 8,
   "metadata": {},
   "outputs": [],
   "source": [
    "# oauth authentication\n",
    "auth = tweepy.OAuthHandler(consumer_key, consumer_secret, callback_url)"
   ]
  },
  {
   "cell_type": "code",
   "execution_count": 9,
   "metadata": {},
   "outputs": [],
   "source": [
    "try:\n",
    "    redirect_url = auth.get_authorization_url()\n",
    "except tweepy.TweepError:\n",
    "    print('Error! Failed to get request token.')"
   ]
  },
  {
   "cell_type": "code",
   "execution_count": 10,
   "metadata": {},
   "outputs": [],
   "source": [
    "# access the api using the tweepy library\n",
    "api = tweepy.API(auth, \n",
    "                 parser = tweepy.parsers.JSONParser(),\n",
    "                 wait_on_rate_limit = True,\n",
    "                 wait_on_rate_limit_notify = True)"
   ]
  },
  {
   "cell_type": "code",
   "execution_count": 19,
   "metadata": {},
   "outputs": [
    {
     "name": "stdout",
     "output_type": "stream",
     "text": [
      "error in extracting 888202515573088257\n",
      "error in extracting 873697596434513921\n",
      "error in extracting 869988702071779329\n",
      "error in extracting 866816280283807744\n",
      "error in extracting 861769973181624320\n",
      "error in extracting 845459076796616705\n",
      "error in extracting 842892208864923648\n",
      "error in extracting 837012587749474308\n",
      "error in extracting 827228250799742977\n",
      "error in extracting 802247111496568832\n",
      "error in extracting 775096608509886464\n",
      "error in extracting 771004394259247104\n",
      "error in extracting 770743923962707968\n"
     ]
    },
    {
     "name": "stderr",
     "output_type": "stream",
     "text": [
      "Rate limit reached. Sleeping for: 325\n"
     ]
    },
    {
     "name": "stdout",
     "output_type": "stream",
     "text": [
      "error in extracting 754011816964026368\n"
     ]
    },
    {
     "name": "stderr",
     "output_type": "stream",
     "text": [
      "Rate limit reached. Sleeping for: 680\n"
     ]
    },
    {
     "name": "stdout",
     "output_type": "stream",
     "text": [
      "Script took 1618.222422361374 seconds to run\n",
      "There were 14 tweet errors when the script was ran\n"
     ]
    }
   ],
   "source": [
    "# start timer\n",
    "start_time = time.time()\n",
    "# list of tweet json\n",
    "tweet_json = []\n",
    "# dictionary of extracted tweet data\n",
    "tweet_dict = defaultdict(list)\n",
    "# errors (if any) of tweet extraction\n",
    "tweet_errors = []\n",
    "\n",
    "for tweet_id in df_twitter.tweet_id:\n",
    "    try:\n",
    "        # get tweet\n",
    "        tweet = api.get_status(tweet_id, tweet_mode = 'extended')\n",
    "        # append json to tweet_json list\n",
    "        tweet_json.append(tweet)\n",
    "        # extract tweet data\n",
    "        tweet_dict['retweet_count'].append(tweet['retweet_count'])\n",
    "        tweet_dict['favorite_count'].append(tweet['favorite_count'])\n",
    "        tweet_dict['tweet_id'].append(tweet['id'])   \n",
    "    except:\n",
    "        # if tweet is not extracted, append id to tweet_errors\n",
    "        tweet_errors.append(tweet_id)\n",
    "        # print id with error\n",
    "        print('error in extracting' + ' ' + str(tweet_id))\n",
    "# dump json into txt file\n",
    "with open('json/tweet_json.txt', 'w', encoding = 'utf8') as tweettxtfile:\n",
    "    json.dump(tweet_json, tweettxtfile, sort_keys = True, indent = 4, ensure_ascii = False)\n",
    "# dict to dataframe\n",
    "df_twitter_extract = pd.DataFrame.from_dict(tweet_dict)\n",
    "# dataframe to csv\n",
    "df_twitter_extract.to_csv('data/df_twitter_extract.csv', encoding='utf-8')\n",
    "print('Script took %s seconds to run' % (time.time() - start_time))\n",
    "error_length = len(tweet_errors)\n",
    "print('There were %s tweet errors when the script was ran' % error_length)"
   ]
  },
  {
   "cell_type": "markdown",
   "metadata": {},
   "source": [
    "Surprisingly, there were only 14 errors when the script was ran. After checking the `tweet_json.txt`, there are a total of 461,441 lines of JSON. For the file I used the `sort_keys`, `indent`, and `ensure_ascii` to make a clean and readable json file. This helped later on when I needed to view a twitter object in the JSON file to figure out what code I needed to access certain elements."
   ]
  },
  {
   "cell_type": "markdown",
   "metadata": {},
   "source": [
    "Next, I extracted the `retweeted` status of each tweet and added it to the `df_twitter` table."
   ]
  },
  {
   "cell_type": "code",
   "execution_count": 12,
   "metadata": {},
   "outputs": [
    {
     "name": "stdout",
     "output_type": "stream",
     "text": [
      "done!\n"
     ]
    }
   ],
   "source": [
    "retweet_status_dict = defaultdict(list)\n",
    "json_file = 'json/tweet_json.txt'\n",
    "with open(json_file, encoding = 'utf-8') as f:\n",
    "    data = json.load(f)\n",
    "    for element in data:\n",
    "        retweet_status_dict['retweeted'].append(element['retweeted'])\n",
    "        retweet_status_dict['tweet_id'].append(element['id'])\n",
    "    print('done!')\n",
    "df_retweet_status = pd.DataFrame.from_dict(retweet_status_dict)"
   ]
  },
  {
   "cell_type": "markdown",
   "metadata": {},
   "source": [
    "For the next part, I wanted to add some extra data to the project. I wanted to extract the JSON of the user's who were getting tagged in certain tweets on WeRateDogs. Using the ID's from `twitter_df`, I accessed the url's of the tweets with the `BeautifulSoup` library. Then, I saved the html of each url in a folder for later use. I named each file by splitting the string of the url and adding the ID to the file name."
   ]
  },
  {
   "cell_type": "code",
   "execution_count": null,
   "metadata": {},
   "outputs": [],
   "source": [
    "start_time = time.time()\n",
    "\n",
    "html_tweet_dict = defaultdict(list)\n",
    "\n",
    "html_tweet_errors = []\n",
    "for tweet_id in df_twitter.tweet_id:\n",
    "    try:\n",
    "        url = api.get_status(tweet_id)['entities']['urls'][0]['expanded_url']\n",
    "        r = requests.get(url)\n",
    "        html_tweet_dict['link'].append(url)\n",
    "        html_tweet_dict['tweet_id'].append(tweet_id)\n",
    "        # access html with BeautifulSoup\n",
    "        soup = BeautifulSoup(r.text, 'html.parser').prettify()\n",
    "        # save html of tweet to tweet_html folder\n",
    "        with open('tweet_html/html_' + url.split('/')[-1] + '.html', 'w', encoding = 'utf-8') as file:\n",
    "            file.write(str(soup))\n",
    "    except:\n",
    "        html_tweet_errors.append(tweet_id)\n",
    "        print('error in obtaining url from tweet ID %s' % tweet_id)\n",
    "\n",
    "# turn dict into dataframe\n",
    "df_html_extract = pd.DataFrame.from_dict(html_tweet_dict)\n",
    "# dataframe to csv\n",
    "df_html_extract.to_csv('data/df_html_extract.csv', encoding='utf-8')\n",
    "\n",
    "print('Script took %s seconds to run' % (time.time() - start_time))\n",
    "html_error_length = len(html_tweet_errors)\n",
    "print('There were %s user tweet errors when the script was ran' % html_error_length)"
   ]
  },
  {
   "cell_type": "code",
   "execution_count": 45,
   "metadata": {},
   "outputs": [
    {
     "data": {
      "text/plain": [
       "1973"
      ]
     },
     "execution_count": 45,
     "metadata": {},
     "output_type": "execute_result"
    }
   ],
   "source": [
    "len(html_tweet_errors)"
   ]
  },
  {
   "cell_type": "markdown",
   "metadata": {},
   "source": [
    "After running this script, there were a total of 1973 errors. The cause of the errors was the `url` variable in the loop. Due to some tweets being a bit old, the JSON of those tweets were different than others. So to narrow down the number of errors. I searched for another way to grab the url from the JSON and ran the script again."
   ]
  },
  {
   "cell_type": "code",
   "execution_count": null,
   "metadata": {},
   "outputs": [],
   "source": [
    "start_time = time.time()\n",
    "\n",
    "html_tweet_errors_2 = []\n",
    "\n",
    "# loop through html_tweet_errors\n",
    "for tweet_id in html_tweet_errors:\n",
    "    try:\n",
    "        # changed strings to access correct link\n",
    "        url = api.get_status(tweet_id)['entities']['media'][0]['expanded_url']\n",
    "        r = requests.get(url)\n",
    "        html_tweet_dict['link'].append(url)\n",
    "        html_tweet_dict['tweet_id'].append(tweet_id)\n",
    "        soup = BeautifulSoup(r.text, 'html.parser').prettify()\n",
    "        # save html of tweet to tweet_html folder (changed index to -3)\n",
    "        with open('tweet_html/html_' + url.split('/')[-3] + '.html', 'w', encoding = 'utf-8') as file:\n",
    "            file.write(str(soup))\n",
    "    except:\n",
    "        html_tweet_errors_2.append(tweet_id)\n",
    "        print('error in obtaining url from tweet ID %s' % tweet_id)\n",
    "\n",
    "df_html_extract_2 = pd.DataFrame.from_dict(html_tweet_dict)\n",
    "# dataframe to csv\n",
    "df_html_extract_2.to_csv('data/df_html_extract_.csv', encoding='utf-8')\n",
    "\n",
    "print('Script took %s seconds to run' % (time.time() - start_time))\n",
    "html_error_length_2 = len(html_tweet_errors_2)\n",
    "print('There were %s user tweet errors when the script was ran' % html_error_length_2)"
   ]
  },
  {
   "cell_type": "code",
   "execution_count": 73,
   "metadata": {},
   "outputs": [
    {
     "data": {
      "text/plain": [
       "153"
      ]
     },
     "execution_count": 73,
     "metadata": {},
     "output_type": "execute_result"
    }
   ],
   "source": [
    "len(html_tweet_errors_2)"
   ]
  },
  {
   "cell_type": "markdown",
   "metadata": {},
   "source": [
    "I narrowed it down to 153 errors. AFter some digging, most of the other 153 ID's url's didn't exist on twitter anymore, so I decided to move on.\n",
    "\n",
    "With those two scripts ran, I now have the HTML for most of the tweets. I also have a CSV file called `df_html_extract` that has the ID and the url of that ID. This will be used later to add missing data to the `df_twitter` dataframe.\n",
    "\n",
    "Next, I will use the HTML files extracted earlier and find the user ID of the profile tagged in the original tweet. After inspecting the link of the tagged user on twitter, I discovered that there was a `div` with a class called `media-tagging-block` that had a number in `data-user-id`. With this ID number, we can use `api.get_user` to extract the json just as we did with the original tweets.\n",
    "\n",
    "So for the script I wrote below, it will loop through the html files, find the user ID number, extract the JSON of the user, and collect data from it. After all of the data is collected it puts it in a csv file called `df_user_extract`."
   ]
  },
  {
   "cell_type": "code",
   "execution_count": null,
   "metadata": {},
   "outputs": [],
   "source": [
    "# list of user tweet json\n",
    "user_tweet_json = []\n",
    "# tweet data of users tagged in original tweet\n",
    "user_tweet_dict = defaultdict(list)\n",
    "# list of errors\n",
    "user_tweet_error = []\n",
    "folder = 'tweet_html'\n",
    "for tweet_html in os.listdir(folder):\n",
    "    try:\n",
    "        with open(os.path.join(folder, tweet_html), encoding = 'utf-8') as file:\n",
    "            soup = BeautifulSoup(file, 'html.parser')\n",
    "            # find user ID of profile tagged in original tweet\n",
    "            user_id = soup.find('div', 'media-tagging-block')('a')[0].get('data-user-id')\n",
    "            # get profile JSON using user ID\n",
    "            user_json = api.get_user(user_id)\n",
    "            # put json in user_tweet_json\n",
    "            user_tweet_json.append(user_json)\n",
    "            # extract user profile data\n",
    "            user_tweet_dict['created_at'].append(user_json['created_at'])\n",
    "            user_tweet_dict['friends_count'].append(user_json['friends_count'])\n",
    "            user_tweet_dict['user_id'].append(user_json['id_str'])\n",
    "            user_tweet_dict['language'].append(user_json['lang'])\n",
    "            user_tweet_dict['location'].append(user_json['location'])\n",
    "            user_tweet_dict['display_name'].append(user_json['name'])\n",
    "            user_tweet_dict['account_name'].append(user_json['screen_name'])\n",
    "    except:\n",
    "        user_tweet_error.append(file)\n",
    "        print('error in obtaining tagged user ID data from %s' % file)\n"
   ]
  },
  {
   "cell_type": "code",
   "execution_count": 158,
   "metadata": {},
   "outputs": [],
   "source": [
    "with open('json/user_tweet_json.txt', 'w', encoding = 'utf-8') as usertxtfile:\n",
    "    json.dump(user_tweet_json, usertxtfile, sort_keys = True, indent = 4, ensure_ascii = False)\n",
    "df_user_extract = pd.DataFrame.from_dict(user_tweet_dict)\n",
    "# dataframe to csv\n",
    "df_user_extract.to_csv('data/df_user_extract.csv', encoding='utf-8')"
   ]
  },
  {
   "cell_type": "code",
   "execution_count": 159,
   "metadata": {},
   "outputs": [
    {
     "data": {
      "text/plain": [
       "1412"
      ]
     },
     "execution_count": 159,
     "metadata": {},
     "output_type": "execute_result"
    }
   ],
   "source": [
    "len(user_tweet_error)"
   ]
  },
  {
   "cell_type": "markdown",
   "metadata": {},
   "source": [
    "With this script I was able to extract user data for 718 individuals. There were 1412 errors mostly because not all tweets had a tagged user in it. The data I was able to collect included the date in which the user joined twitter, friends count, user ID, language spoken, location of user, display name, and account name.\n",
    "\n",
    "In summary, I collected the twitter archive of WeRateDogs, the HTMl of each tweet link, tagged user data, image predictions from Udacity's servers, and JSON for tagged users and for each tweet in the archive. The next step will be to clean and organize the data, so we have good quality and tidiness for analyzation."
   ]
  },
  {
   "cell_type": "markdown",
   "metadata": {},
   "source": [
    "# Assess"
   ]
  },
  {
   "cell_type": "code",
   "execution_count": 79,
   "metadata": {},
   "outputs": [
    {
     "data": {
      "text/html": [
       "<div>\n",
       "<style scoped>\n",
       "    .dataframe tbody tr th:only-of-type {\n",
       "        vertical-align: middle;\n",
       "    }\n",
       "\n",
       "    .dataframe tbody tr th {\n",
       "        vertical-align: top;\n",
       "    }\n",
       "\n",
       "    .dataframe thead th {\n",
       "        text-align: right;\n",
       "    }\n",
       "</style>\n",
       "<table border=\"1\" class=\"dataframe\">\n",
       "  <thead>\n",
       "    <tr style=\"text-align: right;\">\n",
       "      <th></th>\n",
       "      <th>tweet_id</th>\n",
       "      <th>in_reply_to_status_id</th>\n",
       "      <th>in_reply_to_user_id</th>\n",
       "      <th>timestamp</th>\n",
       "      <th>source</th>\n",
       "      <th>text</th>\n",
       "      <th>retweeted_status_id</th>\n",
       "      <th>retweeted_status_user_id</th>\n",
       "      <th>retweeted_status_timestamp</th>\n",
       "      <th>expanded_urls</th>\n",
       "      <th>rating_numerator</th>\n",
       "      <th>rating_denominator</th>\n",
       "      <th>name</th>\n",
       "      <th>doggo</th>\n",
       "      <th>floofer</th>\n",
       "      <th>pupper</th>\n",
       "      <th>puppo</th>\n",
       "    </tr>\n",
       "  </thead>\n",
       "  <tbody>\n",
       "    <tr>\n",
       "      <th>0</th>\n",
       "      <td>892420643555336193</td>\n",
       "      <td>NaN</td>\n",
       "      <td>NaN</td>\n",
       "      <td>2017-08-01 16:23:56 +0000</td>\n",
       "      <td>&lt;a href=\"http://twitter.com/download/iphone\" r...</td>\n",
       "      <td>This is Phineas. He's a mystical boy. Only eve...</td>\n",
       "      <td>NaN</td>\n",
       "      <td>NaN</td>\n",
       "      <td>NaN</td>\n",
       "      <td>https://twitter.com/dog_rates/status/892420643...</td>\n",
       "      <td>13</td>\n",
       "      <td>10</td>\n",
       "      <td>Phineas</td>\n",
       "      <td>None</td>\n",
       "      <td>None</td>\n",
       "      <td>None</td>\n",
       "      <td>None</td>\n",
       "    </tr>\n",
       "    <tr>\n",
       "      <th>1</th>\n",
       "      <td>892177421306343426</td>\n",
       "      <td>NaN</td>\n",
       "      <td>NaN</td>\n",
       "      <td>2017-08-01 00:17:27 +0000</td>\n",
       "      <td>&lt;a href=\"http://twitter.com/download/iphone\" r...</td>\n",
       "      <td>This is Tilly. She's just checking pup on you....</td>\n",
       "      <td>NaN</td>\n",
       "      <td>NaN</td>\n",
       "      <td>NaN</td>\n",
       "      <td>https://twitter.com/dog_rates/status/892177421...</td>\n",
       "      <td>13</td>\n",
       "      <td>10</td>\n",
       "      <td>Tilly</td>\n",
       "      <td>None</td>\n",
       "      <td>None</td>\n",
       "      <td>None</td>\n",
       "      <td>None</td>\n",
       "    </tr>\n",
       "    <tr>\n",
       "      <th>2</th>\n",
       "      <td>891815181378084864</td>\n",
       "      <td>NaN</td>\n",
       "      <td>NaN</td>\n",
       "      <td>2017-07-31 00:18:03 +0000</td>\n",
       "      <td>&lt;a href=\"http://twitter.com/download/iphone\" r...</td>\n",
       "      <td>This is Archie. He is a rare Norwegian Pouncin...</td>\n",
       "      <td>NaN</td>\n",
       "      <td>NaN</td>\n",
       "      <td>NaN</td>\n",
       "      <td>https://twitter.com/dog_rates/status/891815181...</td>\n",
       "      <td>12</td>\n",
       "      <td>10</td>\n",
       "      <td>Archie</td>\n",
       "      <td>None</td>\n",
       "      <td>None</td>\n",
       "      <td>None</td>\n",
       "      <td>None</td>\n",
       "    </tr>\n",
       "    <tr>\n",
       "      <th>3</th>\n",
       "      <td>891689557279858688</td>\n",
       "      <td>NaN</td>\n",
       "      <td>NaN</td>\n",
       "      <td>2017-07-30 15:58:51 +0000</td>\n",
       "      <td>&lt;a href=\"http://twitter.com/download/iphone\" r...</td>\n",
       "      <td>This is Darla. She commenced a snooze mid meal...</td>\n",
       "      <td>NaN</td>\n",
       "      <td>NaN</td>\n",
       "      <td>NaN</td>\n",
       "      <td>https://twitter.com/dog_rates/status/891689557...</td>\n",
       "      <td>13</td>\n",
       "      <td>10</td>\n",
       "      <td>Darla</td>\n",
       "      <td>None</td>\n",
       "      <td>None</td>\n",
       "      <td>None</td>\n",
       "      <td>None</td>\n",
       "    </tr>\n",
       "    <tr>\n",
       "      <th>4</th>\n",
       "      <td>891327558926688256</td>\n",
       "      <td>NaN</td>\n",
       "      <td>NaN</td>\n",
       "      <td>2017-07-29 16:00:24 +0000</td>\n",
       "      <td>&lt;a href=\"http://twitter.com/download/iphone\" r...</td>\n",
       "      <td>This is Franklin. He would like you to stop ca...</td>\n",
       "      <td>NaN</td>\n",
       "      <td>NaN</td>\n",
       "      <td>NaN</td>\n",
       "      <td>https://twitter.com/dog_rates/status/891327558...</td>\n",
       "      <td>12</td>\n",
       "      <td>10</td>\n",
       "      <td>Franklin</td>\n",
       "      <td>None</td>\n",
       "      <td>None</td>\n",
       "      <td>None</td>\n",
       "      <td>None</td>\n",
       "    </tr>\n",
       "  </tbody>\n",
       "</table>\n",
       "</div>"
      ],
      "text/plain": [
       "             tweet_id  in_reply_to_status_id  in_reply_to_user_id  \\\n",
       "0  892420643555336193                    NaN                  NaN   \n",
       "1  892177421306343426                    NaN                  NaN   \n",
       "2  891815181378084864                    NaN                  NaN   \n",
       "3  891689557279858688                    NaN                  NaN   \n",
       "4  891327558926688256                    NaN                  NaN   \n",
       "\n",
       "                   timestamp  \\\n",
       "0  2017-08-01 16:23:56 +0000   \n",
       "1  2017-08-01 00:17:27 +0000   \n",
       "2  2017-07-31 00:18:03 +0000   \n",
       "3  2017-07-30 15:58:51 +0000   \n",
       "4  2017-07-29 16:00:24 +0000   \n",
       "\n",
       "                                              source  \\\n",
       "0  <a href=\"http://twitter.com/download/iphone\" r...   \n",
       "1  <a href=\"http://twitter.com/download/iphone\" r...   \n",
       "2  <a href=\"http://twitter.com/download/iphone\" r...   \n",
       "3  <a href=\"http://twitter.com/download/iphone\" r...   \n",
       "4  <a href=\"http://twitter.com/download/iphone\" r...   \n",
       "\n",
       "                                                text  retweeted_status_id  \\\n",
       "0  This is Phineas. He's a mystical boy. Only eve...                  NaN   \n",
       "1  This is Tilly. She's just checking pup on you....                  NaN   \n",
       "2  This is Archie. He is a rare Norwegian Pouncin...                  NaN   \n",
       "3  This is Darla. She commenced a snooze mid meal...                  NaN   \n",
       "4  This is Franklin. He would like you to stop ca...                  NaN   \n",
       "\n",
       "   retweeted_status_user_id retweeted_status_timestamp  \\\n",
       "0                       NaN                        NaN   \n",
       "1                       NaN                        NaN   \n",
       "2                       NaN                        NaN   \n",
       "3                       NaN                        NaN   \n",
       "4                       NaN                        NaN   \n",
       "\n",
       "                                       expanded_urls  rating_numerator  \\\n",
       "0  https://twitter.com/dog_rates/status/892420643...                13   \n",
       "1  https://twitter.com/dog_rates/status/892177421...                13   \n",
       "2  https://twitter.com/dog_rates/status/891815181...                12   \n",
       "3  https://twitter.com/dog_rates/status/891689557...                13   \n",
       "4  https://twitter.com/dog_rates/status/891327558...                12   \n",
       "\n",
       "   rating_denominator      name doggo floofer pupper puppo  \n",
       "0                  10   Phineas  None    None   None  None  \n",
       "1                  10     Tilly  None    None   None  None  \n",
       "2                  10    Archie  None    None   None  None  \n",
       "3                  10     Darla  None    None   None  None  \n",
       "4                  10  Franklin  None    None   None  None  "
      ]
     },
     "execution_count": 79,
     "metadata": {},
     "output_type": "execute_result"
    }
   ],
   "source": [
    "# make a copy of df_twitter to alter it later\n",
    "df_twitter = pd.read_csv('data/twitter-archive-enhanced.csv')\n",
    "df_twitter_copy = df_twitter.copy()\n",
    "df_twitter_copy.head()"
   ]
  },
  {
   "cell_type": "code",
   "execution_count": 80,
   "metadata": {},
   "outputs": [
    {
     "name": "stdout",
     "output_type": "stream",
     "text": [
      "<class 'pandas.core.frame.DataFrame'>\n",
      "RangeIndex: 2356 entries, 0 to 2355\n",
      "Data columns (total 17 columns):\n",
      "tweet_id                      2356 non-null int64\n",
      "in_reply_to_status_id         78 non-null float64\n",
      "in_reply_to_user_id           78 non-null float64\n",
      "timestamp                     2356 non-null object\n",
      "source                        2356 non-null object\n",
      "text                          2356 non-null object\n",
      "retweeted_status_id           181 non-null float64\n",
      "retweeted_status_user_id      181 non-null float64\n",
      "retweeted_status_timestamp    181 non-null object\n",
      "expanded_urls                 2297 non-null object\n",
      "rating_numerator              2356 non-null int64\n",
      "rating_denominator            2356 non-null int64\n",
      "name                          2356 non-null object\n",
      "doggo                         2356 non-null object\n",
      "floofer                       2356 non-null object\n",
      "pupper                        2356 non-null object\n",
      "puppo                         2356 non-null object\n",
      "dtypes: float64(4), int64(3), object(10)\n",
      "memory usage: 313.0+ KB\n"
     ]
    }
   ],
   "source": [
    "df_twitter_copy.info()"
   ]
  },
  {
   "cell_type": "markdown",
   "metadata": {},
   "source": [
    "* Missing values (NaN)\n",
    "* tweet_id is an int64 column, not str\n",
    "* source column needs re-formatting, should not be html elements\n",
    "* doggo, floofer, pupper, and puppo should be one column\n",
    "* timestamp should be datetime"
   ]
  },
  {
   "cell_type": "code",
   "execution_count": 323,
   "metadata": {},
   "outputs": [
    {
     "data": {
      "text/html": [
       "<div>\n",
       "<style scoped>\n",
       "    .dataframe tbody tr th:only-of-type {\n",
       "        vertical-align: middle;\n",
       "    }\n",
       "\n",
       "    .dataframe tbody tr th {\n",
       "        vertical-align: top;\n",
       "    }\n",
       "\n",
       "    .dataframe thead th {\n",
       "        text-align: right;\n",
       "    }\n",
       "</style>\n",
       "<table border=\"1\" class=\"dataframe\">\n",
       "  <thead>\n",
       "    <tr style=\"text-align: right;\">\n",
       "      <th></th>\n",
       "      <th>tweet_id</th>\n",
       "      <th>jpg_url</th>\n",
       "      <th>img_num</th>\n",
       "      <th>p1</th>\n",
       "      <th>p1_conf</th>\n",
       "      <th>p1_dog</th>\n",
       "      <th>p2</th>\n",
       "      <th>p2_conf</th>\n",
       "      <th>p2_dog</th>\n",
       "      <th>p3</th>\n",
       "      <th>p3_conf</th>\n",
       "      <th>p3_dog</th>\n",
       "    </tr>\n",
       "  </thead>\n",
       "  <tbody>\n",
       "    <tr>\n",
       "      <th>0</th>\n",
       "      <td>666020888022790149</td>\n",
       "      <td>https://pbs.twimg.com/media/CT4udn0WwAA0aMy.jpg</td>\n",
       "      <td>1</td>\n",
       "      <td>Welsh_springer_spaniel</td>\n",
       "      <td>0.465074</td>\n",
       "      <td>True</td>\n",
       "      <td>collie</td>\n",
       "      <td>0.156665</td>\n",
       "      <td>True</td>\n",
       "      <td>Shetland_sheepdog</td>\n",
       "      <td>0.061428</td>\n",
       "      <td>True</td>\n",
       "    </tr>\n",
       "    <tr>\n",
       "      <th>1</th>\n",
       "      <td>666029285002620928</td>\n",
       "      <td>https://pbs.twimg.com/media/CT42GRgUYAA5iDo.jpg</td>\n",
       "      <td>1</td>\n",
       "      <td>redbone</td>\n",
       "      <td>0.506826</td>\n",
       "      <td>True</td>\n",
       "      <td>miniature_pinscher</td>\n",
       "      <td>0.074192</td>\n",
       "      <td>True</td>\n",
       "      <td>Rhodesian_ridgeback</td>\n",
       "      <td>0.072010</td>\n",
       "      <td>True</td>\n",
       "    </tr>\n",
       "    <tr>\n",
       "      <th>2</th>\n",
       "      <td>666033412701032449</td>\n",
       "      <td>https://pbs.twimg.com/media/CT4521TWwAEvMyu.jpg</td>\n",
       "      <td>1</td>\n",
       "      <td>German_shepherd</td>\n",
       "      <td>0.596461</td>\n",
       "      <td>True</td>\n",
       "      <td>malinois</td>\n",
       "      <td>0.138584</td>\n",
       "      <td>True</td>\n",
       "      <td>bloodhound</td>\n",
       "      <td>0.116197</td>\n",
       "      <td>True</td>\n",
       "    </tr>\n",
       "    <tr>\n",
       "      <th>3</th>\n",
       "      <td>666044226329800704</td>\n",
       "      <td>https://pbs.twimg.com/media/CT5Dr8HUEAA-lEu.jpg</td>\n",
       "      <td>1</td>\n",
       "      <td>Rhodesian_ridgeback</td>\n",
       "      <td>0.408143</td>\n",
       "      <td>True</td>\n",
       "      <td>redbone</td>\n",
       "      <td>0.360687</td>\n",
       "      <td>True</td>\n",
       "      <td>miniature_pinscher</td>\n",
       "      <td>0.222752</td>\n",
       "      <td>True</td>\n",
       "    </tr>\n",
       "    <tr>\n",
       "      <th>4</th>\n",
       "      <td>666049248165822465</td>\n",
       "      <td>https://pbs.twimg.com/media/CT5IQmsXIAAKY4A.jpg</td>\n",
       "      <td>1</td>\n",
       "      <td>miniature_pinscher</td>\n",
       "      <td>0.560311</td>\n",
       "      <td>True</td>\n",
       "      <td>Rottweiler</td>\n",
       "      <td>0.243682</td>\n",
       "      <td>True</td>\n",
       "      <td>Doberman</td>\n",
       "      <td>0.154629</td>\n",
       "      <td>True</td>\n",
       "    </tr>\n",
       "  </tbody>\n",
       "</table>\n",
       "</div>"
      ],
      "text/plain": [
       "             tweet_id                                          jpg_url  \\\n",
       "0  666020888022790149  https://pbs.twimg.com/media/CT4udn0WwAA0aMy.jpg   \n",
       "1  666029285002620928  https://pbs.twimg.com/media/CT42GRgUYAA5iDo.jpg   \n",
       "2  666033412701032449  https://pbs.twimg.com/media/CT4521TWwAEvMyu.jpg   \n",
       "3  666044226329800704  https://pbs.twimg.com/media/CT5Dr8HUEAA-lEu.jpg   \n",
       "4  666049248165822465  https://pbs.twimg.com/media/CT5IQmsXIAAKY4A.jpg   \n",
       "\n",
       "   img_num                      p1   p1_conf  p1_dog                  p2  \\\n",
       "0        1  Welsh_springer_spaniel  0.465074    True              collie   \n",
       "1        1                 redbone  0.506826    True  miniature_pinscher   \n",
       "2        1         German_shepherd  0.596461    True            malinois   \n",
       "3        1     Rhodesian_ridgeback  0.408143    True             redbone   \n",
       "4        1      miniature_pinscher  0.560311    True          Rottweiler   \n",
       "\n",
       "    p2_conf  p2_dog                   p3   p3_conf  p3_dog  \n",
       "0  0.156665    True    Shetland_sheepdog  0.061428    True  \n",
       "1  0.074192    True  Rhodesian_ridgeback  0.072010    True  \n",
       "2  0.138584    True           bloodhound  0.116197    True  \n",
       "3  0.360687    True   miniature_pinscher  0.222752    True  \n",
       "4  0.243682    True             Doberman  0.154629    True  "
      ]
     },
     "execution_count": 323,
     "metadata": {},
     "output_type": "execute_result"
    }
   ],
   "source": [
    "image_predictions = pd.read_csv('data/image-predictions.tsv', sep = '\\t')\n",
    "image_predictions_copy = image_predictions.copy()\n",
    "image_predictions_copy.head()"
   ]
  },
  {
   "cell_type": "code",
   "execution_count": 324,
   "metadata": {},
   "outputs": [
    {
     "name": "stdout",
     "output_type": "stream",
     "text": [
      "<class 'pandas.core.frame.DataFrame'>\n",
      "RangeIndex: 2075 entries, 0 to 2074\n",
      "Data columns (total 12 columns):\n",
      "tweet_id    2075 non-null int64\n",
      "jpg_url     2075 non-null object\n",
      "img_num     2075 non-null int64\n",
      "p1          2075 non-null object\n",
      "p1_conf     2075 non-null float64\n",
      "p1_dog      2075 non-null bool\n",
      "p2          2075 non-null object\n",
      "p2_conf     2075 non-null float64\n",
      "p2_dog      2075 non-null bool\n",
      "p3          2075 non-null object\n",
      "p3_conf     2075 non-null float64\n",
      "p3_dog      2075 non-null bool\n",
      "dtypes: bool(3), float64(3), int64(2), object(4)\n",
      "memory usage: 152.1+ KB\n"
     ]
    }
   ],
   "source": [
    "image_predictions_copy.info()"
   ]
  },
  {
   "cell_type": "markdown",
   "metadata": {},
   "source": [
    "* tweet_id needs to be string"
   ]
  },
  {
   "cell_type": "markdown",
   "metadata": {},
   "source": [
    "The `image_predictions` file is pretty tidy. From only looking at the first five rows, I can already see that I will probably only need the `tweet_id`, `jpg_url`, `p1`, and `p1_conf` columns of the rows that contain `True` in `p1_dog`. The other columns have a very low confidence percentage and will not be necessary to add to the data. Next lets look at the twitter archive."
   ]
  },
  {
   "cell_type": "code",
   "execution_count": 18,
   "metadata": {},
   "outputs": [
    {
     "data": {
      "text/html": [
       "<div>\n",
       "<style scoped>\n",
       "    .dataframe tbody tr th:only-of-type {\n",
       "        vertical-align: middle;\n",
       "    }\n",
       "\n",
       "    .dataframe tbody tr th {\n",
       "        vertical-align: top;\n",
       "    }\n",
       "\n",
       "    .dataframe thead th {\n",
       "        text-align: right;\n",
       "    }\n",
       "</style>\n",
       "<table border=\"1\" class=\"dataframe\">\n",
       "  <thead>\n",
       "    <tr style=\"text-align: right;\">\n",
       "      <th></th>\n",
       "      <th>Unnamed: 0</th>\n",
       "      <th>link</th>\n",
       "      <th>tweet_id</th>\n",
       "    </tr>\n",
       "  </thead>\n",
       "  <tbody>\n",
       "    <tr>\n",
       "      <th>0</th>\n",
       "      <td>0</td>\n",
       "      <td>https://twitter.com/i/web/status/8921774213063...</td>\n",
       "      <td>892177421306343426</td>\n",
       "    </tr>\n",
       "    <tr>\n",
       "      <th>1</th>\n",
       "      <td>1</td>\n",
       "      <td>https://twitter.com/i/web/status/8918151813780...</td>\n",
       "      <td>891815181378084864</td>\n",
       "    </tr>\n",
       "    <tr>\n",
       "      <th>2</th>\n",
       "      <td>2</td>\n",
       "      <td>https://twitter.com/i/web/status/8913275589266...</td>\n",
       "      <td>891327558926688256</td>\n",
       "    </tr>\n",
       "    <tr>\n",
       "      <th>3</th>\n",
       "      <td>3</td>\n",
       "      <td>https://twitter.com/i/web/status/8910879508758...</td>\n",
       "      <td>891087950875897856</td>\n",
       "    </tr>\n",
       "    <tr>\n",
       "      <th>4</th>\n",
       "      <td>4</td>\n",
       "      <td>https://twitter.com/i/web/status/8909719131739...</td>\n",
       "      <td>890971913173991426</td>\n",
       "    </tr>\n",
       "  </tbody>\n",
       "</table>\n",
       "</div>"
      ],
      "text/plain": [
       "   Unnamed: 0                                               link  \\\n",
       "0           0  https://twitter.com/i/web/status/8921774213063...   \n",
       "1           1  https://twitter.com/i/web/status/8918151813780...   \n",
       "2           2  https://twitter.com/i/web/status/8913275589266...   \n",
       "3           3  https://twitter.com/i/web/status/8910879508758...   \n",
       "4           4  https://twitter.com/i/web/status/8909719131739...   \n",
       "\n",
       "             tweet_id  \n",
       "0  892177421306343426  \n",
       "1  891815181378084864  \n",
       "2  891327558926688256  \n",
       "3  891087950875897856  \n",
       "4  890971913173991426  "
      ]
     },
     "execution_count": 18,
     "metadata": {},
     "output_type": "execute_result"
    }
   ],
   "source": [
    "df_html_extract = pd.read_csv('data/df_html_extract.csv')\n",
    "df_html_extract_copy = df_html_extract.copy()\n",
    "df_html_extract_copy.head()"
   ]
  },
  {
   "cell_type": "code",
   "execution_count": 22,
   "metadata": {},
   "outputs": [
    {
     "name": "stdout",
     "output_type": "stream",
     "text": [
      "<class 'pandas.core.frame.DataFrame'>\n",
      "RangeIndex: 2207 entries, 0 to 2206\n",
      "Data columns (total 3 columns):\n",
      "Unnamed: 0    2207 non-null int64\n",
      "link          2207 non-null object\n",
      "tweet_id      2207 non-null int64\n",
      "dtypes: int64(2), object(1)\n",
      "memory usage: 51.8+ KB\n"
     ]
    }
   ],
   "source": [
    "df_html_extract.info()"
   ]
  },
  {
   "cell_type": "markdown",
   "metadata": {},
   "source": [
    "* remove unnamed column\n",
    "* tweet_id needs to be string"
   ]
  },
  {
   "cell_type": "code",
   "execution_count": 19,
   "metadata": {},
   "outputs": [
    {
     "data": {
      "text/html": [
       "<div>\n",
       "<style scoped>\n",
       "    .dataframe tbody tr th:only-of-type {\n",
       "        vertical-align: middle;\n",
       "    }\n",
       "\n",
       "    .dataframe tbody tr th {\n",
       "        vertical-align: top;\n",
       "    }\n",
       "\n",
       "    .dataframe thead th {\n",
       "        text-align: right;\n",
       "    }\n",
       "</style>\n",
       "<table border=\"1\" class=\"dataframe\">\n",
       "  <thead>\n",
       "    <tr style=\"text-align: right;\">\n",
       "      <th></th>\n",
       "      <th>Unnamed: 0</th>\n",
       "      <th>favorite_count</th>\n",
       "      <th>retweet_count</th>\n",
       "      <th>tweet_id</th>\n",
       "    </tr>\n",
       "  </thead>\n",
       "  <tbody>\n",
       "    <tr>\n",
       "      <th>0</th>\n",
       "      <td>0</td>\n",
       "      <td>38489</td>\n",
       "      <td>8472</td>\n",
       "      <td>892420643555336193</td>\n",
       "    </tr>\n",
       "    <tr>\n",
       "      <th>1</th>\n",
       "      <td>1</td>\n",
       "      <td>32964</td>\n",
       "      <td>6237</td>\n",
       "      <td>892177421306343426</td>\n",
       "    </tr>\n",
       "    <tr>\n",
       "      <th>2</th>\n",
       "      <td>2</td>\n",
       "      <td>24829</td>\n",
       "      <td>4133</td>\n",
       "      <td>891815181378084864</td>\n",
       "    </tr>\n",
       "    <tr>\n",
       "      <th>3</th>\n",
       "      <td>3</td>\n",
       "      <td>41857</td>\n",
       "      <td>8597</td>\n",
       "      <td>891689557279858688</td>\n",
       "    </tr>\n",
       "    <tr>\n",
       "      <th>4</th>\n",
       "      <td>4</td>\n",
       "      <td>40017</td>\n",
       "      <td>9327</td>\n",
       "      <td>891327558926688256</td>\n",
       "    </tr>\n",
       "  </tbody>\n",
       "</table>\n",
       "</div>"
      ],
      "text/plain": [
       "   Unnamed: 0  favorite_count  retweet_count            tweet_id\n",
       "0           0           38489           8472  892420643555336193\n",
       "1           1           32964           6237  892177421306343426\n",
       "2           2           24829           4133  891815181378084864\n",
       "3           3           41857           8597  891689557279858688\n",
       "4           4           40017           9327  891327558926688256"
      ]
     },
     "execution_count": 19,
     "metadata": {},
     "output_type": "execute_result"
    }
   ],
   "source": [
    "# extra data extracted for twitter archive\n",
    "df_twitter_extract = pd.read_csv('data/df_twitter_extract.csv')\n",
    "df_twitter_extract_copy = df_twitter_extract.copy()\n",
    "df_twitter_extract_copy.head()"
   ]
  },
  {
   "cell_type": "code",
   "execution_count": 23,
   "metadata": {},
   "outputs": [
    {
     "name": "stdout",
     "output_type": "stream",
     "text": [
      "<class 'pandas.core.frame.DataFrame'>\n",
      "RangeIndex: 2342 entries, 0 to 2341\n",
      "Data columns (total 4 columns):\n",
      "Unnamed: 0        2342 non-null int64\n",
      "favorite_count    2342 non-null int64\n",
      "retweet_count     2342 non-null int64\n",
      "tweet_id          2342 non-null int64\n",
      "dtypes: int64(4)\n",
      "memory usage: 73.3 KB\n"
     ]
    }
   ],
   "source": [
    "df_twitter_extract_copy.info()"
   ]
  },
  {
   "cell_type": "markdown",
   "metadata": {},
   "source": [
    "* remove unnamed column\n",
    "* change tweet_id to string"
   ]
  },
  {
   "cell_type": "code",
   "execution_count": 20,
   "metadata": {},
   "outputs": [
    {
     "data": {
      "text/html": [
       "<div>\n",
       "<style scoped>\n",
       "    .dataframe tbody tr th:only-of-type {\n",
       "        vertical-align: middle;\n",
       "    }\n",
       "\n",
       "    .dataframe tbody tr th {\n",
       "        vertical-align: top;\n",
       "    }\n",
       "\n",
       "    .dataframe thead th {\n",
       "        text-align: right;\n",
       "    }\n",
       "</style>\n",
       "<table border=\"1\" class=\"dataframe\">\n",
       "  <thead>\n",
       "    <tr style=\"text-align: right;\">\n",
       "      <th></th>\n",
       "      <th>Unnamed: 0</th>\n",
       "      <th>account_name</th>\n",
       "      <th>created_at</th>\n",
       "      <th>display_name</th>\n",
       "      <th>friends_count</th>\n",
       "      <th>language</th>\n",
       "      <th>location</th>\n",
       "      <th>user_id</th>\n",
       "    </tr>\n",
       "  </thead>\n",
       "  <tbody>\n",
       "    <tr>\n",
       "      <th>0</th>\n",
       "      <td>0</td>\n",
       "      <td>dog_rates</td>\n",
       "      <td>Sun Nov 15 21:41:29 +0000 2015</td>\n",
       "      <td>WeRateDogs™</td>\n",
       "      <td>10</td>\n",
       "      <td>en</td>\n",
       "      <td>⇩ merch ⇩         DM YOUR DOGS</td>\n",
       "      <td>4196983835</td>\n",
       "    </tr>\n",
       "    <tr>\n",
       "      <th>1</th>\n",
       "      <td>1</td>\n",
       "      <td>tta_kay</td>\n",
       "      <td>Sat Jul 05 17:06:22 +0000 2014</td>\n",
       "      <td>kay</td>\n",
       "      <td>479</td>\n",
       "      <td>en</td>\n",
       "      <td>NaN</td>\n",
       "      <td>2676442024</td>\n",
       "    </tr>\n",
       "    <tr>\n",
       "      <th>2</th>\n",
       "      <td>2</td>\n",
       "      <td>Adeline_Garrett</td>\n",
       "      <td>Fri Apr 26 16:34:47 +0000 2013</td>\n",
       "      <td>outofline carrot 🦊</td>\n",
       "      <td>415</td>\n",
       "      <td>en</td>\n",
       "      <td>912•LDN</td>\n",
       "      <td>1382344291</td>\n",
       "    </tr>\n",
       "    <tr>\n",
       "      <th>3</th>\n",
       "      <td>3</td>\n",
       "      <td>gwatsky</td>\n",
       "      <td>Sun Jan 10 03:38:19 +0000 2010</td>\n",
       "      <td>W▵TSKY</td>\n",
       "      <td>865</td>\n",
       "      <td>en</td>\n",
       "      <td>yeah</td>\n",
       "      <td>103467620</td>\n",
       "    </tr>\n",
       "    <tr>\n",
       "      <th>4</th>\n",
       "      <td>4</td>\n",
       "      <td>SmilingYoshi</td>\n",
       "      <td>Sun Jun 12 20:38:49 +0000 2011</td>\n",
       "      <td>SmilingYoshi</td>\n",
       "      <td>1412</td>\n",
       "      <td>en</td>\n",
       "      <td>Here.</td>\n",
       "      <td>316025613</td>\n",
       "    </tr>\n",
       "  </tbody>\n",
       "</table>\n",
       "</div>"
      ],
      "text/plain": [
       "   Unnamed: 0     account_name                      created_at  \\\n",
       "0           0        dog_rates  Sun Nov 15 21:41:29 +0000 2015   \n",
       "1           1          tta_kay  Sat Jul 05 17:06:22 +0000 2014   \n",
       "2           2  Adeline_Garrett  Fri Apr 26 16:34:47 +0000 2013   \n",
       "3           3          gwatsky  Sun Jan 10 03:38:19 +0000 2010   \n",
       "4           4     SmilingYoshi  Sun Jun 12 20:38:49 +0000 2011   \n",
       "\n",
       "         display_name  friends_count language                        location  \\\n",
       "0         WeRateDogs™             10       en  ⇩ merch ⇩         DM YOUR DOGS   \n",
       "1                 kay            479       en                             NaN   \n",
       "2  outofline carrot 🦊            415       en                         912•LDN   \n",
       "3              W▵TSKY            865       en                            yeah   \n",
       "4        SmilingYoshi           1412       en                           Here.   \n",
       "\n",
       "      user_id  \n",
       "0  4196983835  \n",
       "1  2676442024  \n",
       "2  1382344291  \n",
       "3   103467620  \n",
       "4   316025613  "
      ]
     },
     "execution_count": 20,
     "metadata": {},
     "output_type": "execute_result"
    }
   ],
   "source": [
    "df_user_extract = pd.read_csv('data/df_user_extract.csv')\n",
    "df_user_extract_copy = df_user_extract.copy()\n",
    "df_user_extract_copy.head()"
   ]
  },
  {
   "cell_type": "code",
   "execution_count": 24,
   "metadata": {},
   "outputs": [
    {
     "name": "stdout",
     "output_type": "stream",
     "text": [
      "<class 'pandas.core.frame.DataFrame'>\n",
      "RangeIndex: 718 entries, 0 to 717\n",
      "Data columns (total 8 columns):\n",
      "Unnamed: 0       718 non-null int64\n",
      "account_name     718 non-null object\n",
      "created_at       718 non-null object\n",
      "display_name     718 non-null object\n",
      "friends_count    718 non-null int64\n",
      "language         718 non-null object\n",
      "location         457 non-null object\n",
      "user_id          718 non-null int64\n",
      "dtypes: int64(3), object(5)\n",
      "memory usage: 45.0+ KB\n"
     ]
    }
   ],
   "source": [
    "df_user_extract_copy.info()"
   ]
  },
  {
   "cell_type": "markdown",
   "metadata": {},
   "source": [
    "* NaN values\n",
    "* remove unnamed column\n",
    "* created_at should be datetime\n",
    "* change user_id to string"
   ]
  },
  {
   "cell_type": "markdown",
   "metadata": {},
   "source": [
    "# Clean\n",
    "\n",
    "### Define\n",
    "* remove all rows that have values in `retweeted_status_id`, `retweeted_status_user_id`, and `retweeted_status_timestamp`\n",
    "* Change `tweet_id` column to a `string`\n",
    "* Change `timestamp` to `datetime`\n",
    "* Extract the text in each row for the `source column` with beautiful soup\n",
    "* Extract numerator and denominator from text column to clean up current columns\n",
    "* Create a column that divides the numerator to the denominator to have a common rating system\n",
    "* Fix any outliers in the `name` column, for example, \"a\" as a name\n",
    "* doggo, floofer, pupper, puppo columns in twitter_archive_enhanced.csv should be combined into a single column as this is one variable that identify stage of dog.\n",
    "* fix three missing urls in `expanded_urls` column\n",
    "* All data pertaining to the twitter archive information needs to be on one table.\n",
    "* combine `df_twitter_extract` with `df_twitter`\n",
    "* combine `image_predictions` with `df_twitter`\n",
    "\n",
    "### Code\n"
   ]
  },
  {
   "cell_type": "markdown",
   "metadata": {},
   "source": [
    "The only data frame that I will be changing and adding data too is `df_twitter`. Mainly because all of my other tables (except `df_user_extract`) have the `tweet_id`'s in each. One method you will see throughout this cleaning process is `map`. Conveniently, I can use the tweet ID's from my extracted data and map it to the twitter archive data. That way, we have the data next to the associated tweet ID.\n",
    "\n",
    "First I will start off by removing rows we don't need. Particularly the tweets that are retweets."
   ]
  },
  {
   "cell_type": "code",
   "execution_count": 81,
   "metadata": {},
   "outputs": [],
   "source": [
    "# filter dataframe by rows that don't have values in retweeted_status_id\n",
    "df_twitter_copy = df_twitter_copy[df_twitter_copy['retweeted_status_id'].isnull()]"
   ]
  },
  {
   "cell_type": "markdown",
   "metadata": {},
   "source": [
    "Now that we've filtered out the retweets in the data, we can remove the three \"retweet\" columns"
   ]
  },
  {
   "cell_type": "code",
   "execution_count": 82,
   "metadata": {},
   "outputs": [],
   "source": [
    "# drop retweet columns\n",
    "df_twitter_copy = df_twitter_copy.drop(['retweeted_status_id', 'retweeted_status_user_id', 'retweeted_status_timestamp'], axis = 1)"
   ]
  },
  {
   "cell_type": "markdown",
   "metadata": {},
   "source": [
    "We can also do the same thing with the \"reply\" columns, as they are not original tweets with image ratings."
   ]
  },
  {
   "cell_type": "code",
   "execution_count": 83,
   "metadata": {},
   "outputs": [],
   "source": [
    "# filter dataframe by rows that don't have values in in_reply_to_status_id\n",
    "df_twitter_copy = df_twitter_copy[df_twitter_copy['in_reply_to_status_id'].isnull()]"
   ]
  },
  {
   "cell_type": "code",
   "execution_count": 84,
   "metadata": {},
   "outputs": [],
   "source": [
    "# drop reply columns\n",
    "df_twitter_copy = df_twitter_copy.drop(['in_reply_to_status_id', 'in_reply_to_user_id'], axis = 1)"
   ]
  },
  {
   "cell_type": "markdown",
   "metadata": {},
   "source": [
    "In the next steps, I will turn the `tweet_id` column in to a string type, and `timestamp` into DateTime type. Since the ID numbers do not need to be calculated in any mathematical way and shouldn't be changed, they should be strings. The DateTime type for the `timestamp` column will be usefull for visualization when I need to put elements in order by time."
   ]
  },
  {
   "cell_type": "code",
   "execution_count": 85,
   "metadata": {},
   "outputs": [],
   "source": [
    "# turn tweet_id into string type\n",
    "df_twitter_copy['tweet_id'] = df_twitter_copy['tweet_id'].astype('str')"
   ]
  },
  {
   "cell_type": "code",
   "execution_count": 86,
   "metadata": {},
   "outputs": [],
   "source": [
    "# turn timestamp into DateTime\n",
    "df_twitter_copy['timestamp'] = pd.to_datetime(df_twitter_copy['timestamp'])"
   ]
  },
  {
   "cell_type": "markdown",
   "metadata": {},
   "source": [
    "For this next section I used BeautifulSoup to extract the content in each html tag for the `source` column. BeauifulSoup was the easiest method to use for parsing the html string. Once I was able to extract the content of each tag, I then used the `replace` method to change the source types into simple strings such as iphone, vine, web, and tweetdeck."
   ]
  },
  {
   "cell_type": "code",
   "execution_count": 87,
   "metadata": {},
   "outputs": [],
   "source": [
    "# function for accessing tag content\n",
    "def source_text(html):\n",
    "    source = BeautifulSoup(html, 'lxml')\n",
    "    return source.a.string\n",
    "\n",
    "# change each cell to tag content with lambda function\n",
    "df_twitter_copy['source'] = df_twitter_copy.apply(lambda row: source_text(row['source']), axis = 1)"
   ]
  },
  {
   "cell_type": "code",
   "execution_count": 88,
   "metadata": {},
   "outputs": [],
   "source": [
    "# dictionary of string replacements\n",
    "replacements = {\n",
    "    'Twitter for iPhone': 'iphone',\n",
    "    'Vine - Make a Scene': 'vine',\n",
    "    'Twitter Web Client': 'web',\n",
    "    'TweetDeck': 'tweetdeck'\n",
    "}\n",
    "\n",
    "# apply replacements\n",
    "df_twitter_copy['source'] = df_twitter_copy['source'].replace(replacements)"
   ]
  },
  {
   "cell_type": "markdown",
   "metadata": {},
   "source": [
    "Next, I extracted the ratings from the text in the twitter archive, split up the ratings, and added the new columns to the archive"
   ]
  },
  {
   "cell_type": "code",
   "execution_count": 179,
   "metadata": {},
   "outputs": [],
   "source": [
    "# extract the ratings using regex\n",
    "extract = df_twitter_copy.text.str.extract('(\\d.?\\.?.?.?\\/..\\d?)', expand = True)\n",
    "# split the ratings at the character \"/\"\n",
    "extract = extract[0].str.split('/')\n",
    "# turn it into a dataframe\n",
    "extract = pd.DataFrame(extract)\n",
    "# name the column\n",
    "extract.columns = ['rating']"
   ]
  },
  {
   "cell_type": "code",
   "execution_count": 181,
   "metadata": {},
   "outputs": [],
   "source": [
    "# split the ratings into two columns\n",
    "extract[['rating_numerator', 'rating_denominator']] = pd.DataFrame(extract.rating.values.tolist(), index = extract.index)"
   ]
  },
  {
   "cell_type": "code",
   "execution_count": 183,
   "metadata": {},
   "outputs": [],
   "source": [
    "# drop original ratings columns\n",
    "df_twitter_copy = df_twitter_copy.drop(['rating_numerator', 'rating_denominator'], axis = 1)"
   ]
  },
  {
   "cell_type": "code",
   "execution_count": 184,
   "metadata": {},
   "outputs": [],
   "source": [
    "# add new columns to archive\n",
    "df_twitter_copy['rating_numerator'] = extract['rating_numerator']\n",
    "df_twitter_copy['rating_denominator'] = extract['rating_denominator']"
   ]
  },
  {
   "cell_type": "markdown",
   "metadata": {},
   "source": [
    "Even though this is the Code section, I feel this needed to be addressed here. After doing a `value_counts()` call on the `rating_numerator` column, I noticed there was exactly one string that didn't look like a number. I identify it below"
   ]
  },
  {
   "cell_type": "code",
   "execution_count": 221,
   "metadata": {},
   "outputs": [
    {
     "data": {
      "text/html": [
       "<div>\n",
       "<style scoped>\n",
       "    .dataframe tbody tr th:only-of-type {\n",
       "        vertical-align: middle;\n",
       "    }\n",
       "\n",
       "    .dataframe tbody tr th {\n",
       "        vertical-align: top;\n",
       "    }\n",
       "\n",
       "    .dataframe thead th {\n",
       "        text-align: right;\n",
       "    }\n",
       "</style>\n",
       "<table border=\"1\" class=\"dataframe\">\n",
       "  <thead>\n",
       "    <tr style=\"text-align: right;\">\n",
       "      <th></th>\n",
       "      <th>tweet_id</th>\n",
       "      <th>timestamp</th>\n",
       "      <th>source</th>\n",
       "      <th>text</th>\n",
       "      <th>expanded_urls</th>\n",
       "      <th>name</th>\n",
       "      <th>doggo</th>\n",
       "      <th>floofer</th>\n",
       "      <th>pupper</th>\n",
       "      <th>puppo</th>\n",
       "      <th>rating_numerator</th>\n",
       "      <th>rating_denominator</th>\n",
       "    </tr>\n",
       "  </thead>\n",
       "  <tbody>\n",
       "    <tr>\n",
       "      <th>2335</th>\n",
       "      <td>666287406224695296</td>\n",
       "      <td>2015-11-16 16:11:11</td>\n",
       "      <td>iphone</td>\n",
       "      <td>This is an Albanian 3 1/2 legged  Episcopalian...</td>\n",
       "      <td>https://twitter.com/dog_rates/status/666287406...</td>\n",
       "      <td>an</td>\n",
       "      <td>None</td>\n",
       "      <td>None</td>\n",
       "      <td>None</td>\n",
       "      <td>None</td>\n",
       "      <td>3 1</td>\n",
       "      <td>2</td>\n",
       "    </tr>\n",
       "  </tbody>\n",
       "</table>\n",
       "</div>"
      ],
      "text/plain": [
       "                tweet_id           timestamp  source  \\\n",
       "2335  666287406224695296 2015-11-16 16:11:11  iphone   \n",
       "\n",
       "                                                   text  \\\n",
       "2335  This is an Albanian 3 1/2 legged  Episcopalian...   \n",
       "\n",
       "                                          expanded_urls name doggo floofer  \\\n",
       "2335  https://twitter.com/dog_rates/status/666287406...   an  None    None   \n",
       "\n",
       "     pupper puppo rating_numerator rating_denominator  \n",
       "2335   None  None              3 1                 2   "
      ]
     },
     "execution_count": 221,
     "metadata": {},
     "output_type": "execute_result"
    }
   ],
   "source": [
    "df_twitter_copy[df_twitter_copy.rating_numerator == '3 1']"
   ]
  },
  {
   "cell_type": "markdown",
   "metadata": {},
   "source": [
    "Fixing this would require a simple `.at[]` function"
   ]
  },
  {
   "cell_type": "code",
   "execution_count": 238,
   "metadata": {},
   "outputs": [],
   "source": [
    "df_twitter_copy.at[2335, 'rating_numerator'] = '9'\n",
    "df_twitter_copy.at[2335, 'rating_denominator'] = '10'"
   ]
  },
  {
   "cell_type": "code",
   "execution_count": 243,
   "metadata": {},
   "outputs": [],
   "source": [
    "# change rating columns to floats\n",
    "df_twitter_copy['rating_numerator'] = df_twitter_copy['rating_numerator'].astype(float)\n",
    "df_twitter_copy['rating_denominator'] = df_twitter_copy['rating_denominator'].astype(float)"
   ]
  },
  {
   "cell_type": "markdown",
   "metadata": {},
   "source": [
    "Since the scores in this data vary in scale (14/10 , 150/164, for example) the best way to have a consistent score in the entire data set is to divide the numerator by the denominator. This will allow us to easily make visualizations that show us average score, scores over time, highest score, ect."
   ]
  },
  {
   "cell_type": "code",
   "execution_count": 244,
   "metadata": {},
   "outputs": [],
   "source": [
    "# divide numerator column by denominator column\n",
    "df_twitter_copy['score_rating'] = df_twitter_copy.rating_numerator / df_twitter_copy.rating_denominator"
   ]
  },
  {
   "cell_type": "markdown",
   "metadata": {},
   "source": [
    "Focusing on the names now, we can use `str.contains()` with regular expressions to find all of the strings in the column that begin with a lower case letter. This returns a series that we can then turn into a list. With this list of strings, we can filter the dataframe to turn these strings into \"None\"."
   ]
  },
  {
   "cell_type": "code",
   "execution_count": 262,
   "metadata": {},
   "outputs": [
    {
     "name": "stderr",
     "output_type": "stream",
     "text": [
      "C:\\Users\\kster\\Anaconda3\\lib\\site-packages\\ipykernel_launcher.py:1: UserWarning: This pattern has match groups. To actually get the groups, use str.extract.\n",
      "  \"\"\"Entry point for launching an IPython kernel.\n"
     ]
    }
   ],
   "source": [
    "# list of strings that begin with a lower case in the name column\n",
    "no_name_list = df_twitter_copy[df_twitter_copy.name.str.contains('(^[a-z])')].name.tolist()"
   ]
  },
  {
   "cell_type": "code",
   "execution_count": 264,
   "metadata": {},
   "outputs": [
    {
     "name": "stderr",
     "output_type": "stream",
     "text": [
      "C:\\Users\\kster\\Anaconda3\\lib\\site-packages\\ipykernel_launcher.py:1: DeprecationWarning: \n",
      ".ix is deprecated. Please use\n",
      ".loc for label based indexing or\n",
      ".iloc for positional indexing\n",
      "\n",
      "See the documentation here:\n",
      "http://pandas.pydata.org/pandas-docs/stable/indexing.html#ix-indexer-is-deprecated\n",
      "  \"\"\"Entry point for launching an IPython kernel.\n"
     ]
    }
   ],
   "source": [
    "# any string that is also in the list gets turned into \"None\"\n",
    "df_twitter_copy.ix[df_twitter_copy.name.isin(no_name_list), 'name'] = 'None'"
   ]
  },
  {
   "cell_type": "code",
   "execution_count": 278,
   "metadata": {},
   "outputs": [],
   "source": [
    "# name of columns to iterate over\n",
    "cols = ['doggo', 'floofer', 'pupper', 'puppo']\n",
    "\n",
    "# make new none column\n",
    "df_twitter_copy['dog_label'] = 'None'\n",
    "\n",
    "# loop through columns, if all are none move on,\n",
    "# if not, set column name as label for dog_label\n",
    "for i in df_twitter_copy.index:\n",
    "    for col in cols:\n",
    "        if df_twitter_copy.at[i, col] == 'None':\n",
    "            continue\n",
    "        else:\n",
    "            df_twitter_copy.at[i, 'dog_label'] = col"
   ]
  },
  {
   "cell_type": "code",
   "execution_count": 282,
   "metadata": {},
   "outputs": [],
   "source": [
    "# drop original label columns\n",
    "df_twitter_copy = df_twitter_copy.drop(['doggo', 'floofer', 'pupper', 'puppo'], axis = 1)"
   ]
  },
  {
   "cell_type": "markdown",
   "metadata": {},
   "source": [
    "Since there are only three missing values in `expanded_urls`, we can decide what to do with them individually. Lets look at the text of each of them."
   ]
  },
  {
   "cell_type": "code",
   "execution_count": 286,
   "metadata": {},
   "outputs": [
    {
     "data": {
      "text/html": [
       "<div>\n",
       "<style scoped>\n",
       "    .dataframe tbody tr th:only-of-type {\n",
       "        vertical-align: middle;\n",
       "    }\n",
       "\n",
       "    .dataframe tbody tr th {\n",
       "        vertical-align: top;\n",
       "    }\n",
       "\n",
       "    .dataframe thead th {\n",
       "        text-align: right;\n",
       "    }\n",
       "</style>\n",
       "<table border=\"1\" class=\"dataframe\">\n",
       "  <thead>\n",
       "    <tr style=\"text-align: right;\">\n",
       "      <th></th>\n",
       "      <th>tweet_id</th>\n",
       "      <th>timestamp</th>\n",
       "      <th>source</th>\n",
       "      <th>text</th>\n",
       "      <th>expanded_urls</th>\n",
       "      <th>name</th>\n",
       "      <th>rating_numerator</th>\n",
       "      <th>rating_denominator</th>\n",
       "      <th>score_rating</th>\n",
       "      <th>dog_label</th>\n",
       "    </tr>\n",
       "  </thead>\n",
       "  <tbody>\n",
       "    <tr>\n",
       "      <th>375</th>\n",
       "      <td>828361771580813312</td>\n",
       "      <td>2017-02-05 21:56:51</td>\n",
       "      <td>web</td>\n",
       "      <td>Beebop and Doobert should start a band 12/10 w...</td>\n",
       "      <td>NaN</td>\n",
       "      <td>None</td>\n",
       "      <td>12.0</td>\n",
       "      <td>10.0</td>\n",
       "      <td>1.2</td>\n",
       "      <td>None</td>\n",
       "    </tr>\n",
       "    <tr>\n",
       "      <th>707</th>\n",
       "      <td>785515384317313025</td>\n",
       "      <td>2016-10-10 16:20:36</td>\n",
       "      <td>iphone</td>\n",
       "      <td>Today, 10/10, should be National Dog Rates Day</td>\n",
       "      <td>NaN</td>\n",
       "      <td>None</td>\n",
       "      <td>10.0</td>\n",
       "      <td>10.0</td>\n",
       "      <td>1.0</td>\n",
       "      <td>None</td>\n",
       "    </tr>\n",
       "    <tr>\n",
       "      <th>1445</th>\n",
       "      <td>696518437233913856</td>\n",
       "      <td>2016-02-08 02:18:30</td>\n",
       "      <td>iphone</td>\n",
       "      <td>Oh my god 10/10 for every little hot dog pupper</td>\n",
       "      <td>NaN</td>\n",
       "      <td>None</td>\n",
       "      <td>10.0</td>\n",
       "      <td>10.0</td>\n",
       "      <td>1.0</td>\n",
       "      <td>pupper</td>\n",
       "    </tr>\n",
       "  </tbody>\n",
       "</table>\n",
       "</div>"
      ],
      "text/plain": [
       "                tweet_id           timestamp  source  \\\n",
       "375   828361771580813312 2017-02-05 21:56:51     web   \n",
       "707   785515384317313025 2016-10-10 16:20:36  iphone   \n",
       "1445  696518437233913856 2016-02-08 02:18:30  iphone   \n",
       "\n",
       "                                                   text expanded_urls  name  \\\n",
       "375   Beebop and Doobert should start a band 12/10 w...           NaN  None   \n",
       "707      Today, 10/10, should be National Dog Rates Day           NaN  None   \n",
       "1445    Oh my god 10/10 for every little hot dog pupper           NaN  None   \n",
       "\n",
       "      rating_numerator  rating_denominator  score_rating dog_label  \n",
       "375               12.0                10.0           1.2      None  \n",
       "707               10.0                10.0           1.0      None  \n",
       "1445              10.0                10.0           1.0    pupper  "
      ]
     },
     "execution_count": 286,
     "metadata": {},
     "output_type": "execute_result"
    }
   ],
   "source": [
    "df_twitter_copy[df_twitter_copy.expanded_urls.isnull()]"
   ]
  },
  {
   "cell_type": "code",
   "execution_count": 287,
   "metadata": {},
   "outputs": [
    {
     "data": {
      "text/plain": [
       "'Beebop and Doobert should start a band 12/10 would listen'"
      ]
     },
     "execution_count": 287,
     "metadata": {},
     "output_type": "execute_result"
    }
   ],
   "source": [
    "df_twitter_copy.loc[375].text"
   ]
  },
  {
   "cell_type": "code",
   "execution_count": 288,
   "metadata": {},
   "outputs": [
    {
     "data": {
      "text/plain": [
       "'Today, 10/10, should be National Dog Rates Day'"
      ]
     },
     "execution_count": 288,
     "metadata": {},
     "output_type": "execute_result"
    }
   ],
   "source": [
    "df_twitter_copy.loc[707].text"
   ]
  },
  {
   "cell_type": "code",
   "execution_count": 289,
   "metadata": {},
   "outputs": [
    {
     "data": {
      "text/plain": [
       "'Oh my god 10/10 for every little hot dog pupper'"
      ]
     },
     "execution_count": 289,
     "metadata": {},
     "output_type": "execute_result"
    }
   ],
   "source": [
    "df_twitter_copy.loc[1445].text"
   ]
  },
  {
   "cell_type": "markdown",
   "metadata": {},
   "source": [
    "Even though these are original tweets of WeRateDogs, they are not ratings of dogs with pictures, they should be removed from the data frame."
   ]
  },
  {
   "cell_type": "code",
   "execution_count": 292,
   "metadata": {},
   "outputs": [],
   "source": [
    "df_twitter_copy = df_twitter_copy[df_twitter_copy.expanded_urls.notnull()]"
   ]
  },
  {
   "cell_type": "markdown",
   "metadata": {},
   "source": [
    "Next I will focus on the `df_twitter_extract` table. I'll clean it, then join it with the twitter archive."
   ]
  },
  {
   "cell_type": "code",
   "execution_count": 296,
   "metadata": {},
   "outputs": [],
   "source": [
    "# change tweet_id to string\n",
    "df_twitter_extract_copy['tweet_id'] = df_twitter_extract['tweet_id'].astype(str)"
   ]
  },
  {
   "cell_type": "code",
   "execution_count": 297,
   "metadata": {},
   "outputs": [],
   "source": [
    "# drop unnamed column\n",
    "df_twitter_extract_copy = df_twitter_extract_copy.drop('Unnamed: 0', axis = 1)"
   ]
  },
  {
   "cell_type": "code",
   "execution_count": 299,
   "metadata": {},
   "outputs": [],
   "source": [
    "# map df_twitter_extract to df_twitter\n",
    "df_twitter_copy['retweet_count'] = df_twitter_copy['tweet_id'].map(df_twitter_extract_copy.set_index('tweet_id')['retweet_count'])\n",
    "df_twitter_copy['favorite_count'] = df_twitter_copy['tweet_id'].map(df_twitter_extract_copy.set_index('tweet_id')['favorite_count'])"
   ]
  },
  {
   "cell_type": "code",
   "execution_count": 303,
   "metadata": {},
   "outputs": [
    {
     "data": {
      "text/html": [
       "<div>\n",
       "<style scoped>\n",
       "    .dataframe tbody tr th:only-of-type {\n",
       "        vertical-align: middle;\n",
       "    }\n",
       "\n",
       "    .dataframe tbody tr th {\n",
       "        vertical-align: top;\n",
       "    }\n",
       "\n",
       "    .dataframe thead th {\n",
       "        text-align: right;\n",
       "    }\n",
       "</style>\n",
       "<table border=\"1\" class=\"dataframe\">\n",
       "  <thead>\n",
       "    <tr style=\"text-align: right;\">\n",
       "      <th></th>\n",
       "      <th>tweet_id</th>\n",
       "      <th>timestamp</th>\n",
       "      <th>source</th>\n",
       "      <th>text</th>\n",
       "      <th>expanded_urls</th>\n",
       "      <th>name</th>\n",
       "      <th>rating_numerator</th>\n",
       "      <th>rating_denominator</th>\n",
       "      <th>score_rating</th>\n",
       "      <th>dog_label</th>\n",
       "      <th>retweet_count</th>\n",
       "      <th>favorite_count</th>\n",
       "    </tr>\n",
       "  </thead>\n",
       "  <tbody>\n",
       "    <tr>\n",
       "      <th>932</th>\n",
       "      <td>754011816964026368</td>\n",
       "      <td>2016-07-15 17:56:40</td>\n",
       "      <td>iphone</td>\n",
       "      <td>This is Charlie. He pouts until he gets to go ...</td>\n",
       "      <td>https://twitter.com/dog_rates/status/754011816...</td>\n",
       "      <td>Charlie</td>\n",
       "      <td>12.0</td>\n",
       "      <td>10.0</td>\n",
       "      <td>1.2</td>\n",
       "      <td>None</td>\n",
       "      <td>NaN</td>\n",
       "      <td>NaN</td>\n",
       "    </tr>\n",
       "  </tbody>\n",
       "</table>\n",
       "</div>"
      ],
      "text/plain": [
       "               tweet_id           timestamp  source  \\\n",
       "932  754011816964026368 2016-07-15 17:56:40  iphone   \n",
       "\n",
       "                                                  text  \\\n",
       "932  This is Charlie. He pouts until he gets to go ...   \n",
       "\n",
       "                                         expanded_urls     name  \\\n",
       "932  https://twitter.com/dog_rates/status/754011816...  Charlie   \n",
       "\n",
       "     rating_numerator  rating_denominator  score_rating dog_label  \\\n",
       "932              12.0                10.0           1.2      None   \n",
       "\n",
       "     retweet_count  favorite_count  \n",
       "932            NaN             NaN  "
      ]
     },
     "execution_count": 303,
     "metadata": {},
     "output_type": "execute_result"
    }
   ],
   "source": [
    "# one row NaN for retweet and favorite count\n",
    "df_twitter_copy[df_twitter_copy.retweet_count.isnull()]"
   ]
  },
  {
   "cell_type": "code",
   "execution_count": 306,
   "metadata": {},
   "outputs": [],
   "source": [
    "# tweet does not exist anymore, remove it\n",
    "df_twitter_copy = df_twitter_copy[df_twitter_copy.retweet_count.notnull()]"
   ]
  },
  {
   "cell_type": "markdown",
   "metadata": {},
   "source": [
    "In the next steps, I will focus on joining the `image_predictions` data with `df_twitter`. I will narrow the image predictions table down to only rows where `p1_dog` are `True`. We only want strings in the column that are actual dogs that exist. Along with the name of the breed, I'll also include the JPEG file of the dog, and the confidence level in which the algorithm calculated. Since the image predictions table get's narrowed down to about 500 less datapoints then the twitter archive, I'll have to fill in the missing data with either a string \"None\", or a zero for integer columns."
   ]
  },
  {
   "cell_type": "code",
   "execution_count": 326,
   "metadata": {},
   "outputs": [],
   "source": [
    "# filter data where p1_dog is True\n",
    "image_predictions_copy = image_predictions_copy[image_predictions_copy.p1_dog == True]"
   ]
  },
  {
   "cell_type": "code",
   "execution_count": 332,
   "metadata": {},
   "outputs": [
    {
     "data": {
      "text/plain": [
       "1532"
      ]
     },
     "execution_count": 332,
     "metadata": {},
     "output_type": "execute_result"
    }
   ],
   "source": [
    "image_predictions_copy[image_predictions_copy.p1_dog == True]"
   ]
  },
  {
   "cell_type": "code",
   "execution_count": 327,
   "metadata": {},
   "outputs": [],
   "source": [
    "# tweet_id to string type\n",
    "image_predictions_copy['tweet_id'] = image_predictions_copy['tweet_id'].astype(str)"
   ]
  },
  {
   "cell_type": "code",
   "execution_count": 328,
   "metadata": {},
   "outputs": [],
   "source": [
    "# map data to the twitter archive\n",
    "df_twitter_copy['jpg_url'] = df_twitter_copy['tweet_id'].map(image_predictions_copy.set_index('tweet_id')['jpg_url'])\n",
    "df_twitter_copy['p1'] = df_twitter_copy['tweet_id'].map(image_predictions_copy.set_index('tweet_id')['p1'])\n",
    "df_twitter_copy['p1_conf'] = df_twitter_copy['tweet_id'].map(image_predictions_copy.set_index('tweet_id')['p1_conf'])"
   ]
  },
  {
   "cell_type": "code",
   "execution_count": 329,
   "metadata": {},
   "outputs": [],
   "source": [
    "# fill in NaN values\n",
    "df_twitter_copy[['jpg_url', 'p1']] = df_twitter_copy[['jpg_url', 'p1']].fillna('None')\n",
    "df_twitter_copy['p1_conf'] = df_twitter_copy['p1_conf'].fillna(0)"
   ]
  },
  {
   "cell_type": "markdown",
   "metadata": {},
   "source": [
    "Lastly, I will do some quick cleaning on the `df_user_extract` dataframe."
   ]
  },
  {
   "cell_type": "code",
   "execution_count": 317,
   "metadata": {},
   "outputs": [],
   "source": [
    "df_user_extract_copy['user_id'] = df_user_extract_copy['user_id'].astype(str)\n",
    "df_user_extract_copy['created_at'] = pd.to_datetime(df_user_extract_copy['created_at'])\n",
    "df_user_extract_copy = df_user_extract_copy.drop('Unnamed: 0', axis = 1)\n",
    "df_user_extract_copy['location'] = df_user_extract_copy['location'].fillna(\"not given\")"
   ]
  },
  {
   "cell_type": "markdown",
   "metadata": {},
   "source": [
    "### Test"
   ]
  },
  {
   "cell_type": "code",
   "execution_count": 330,
   "metadata": {},
   "outputs": [
    {
     "data": {
      "text/html": [
       "<div>\n",
       "<style scoped>\n",
       "    .dataframe tbody tr th:only-of-type {\n",
       "        vertical-align: middle;\n",
       "    }\n",
       "\n",
       "    .dataframe tbody tr th {\n",
       "        vertical-align: top;\n",
       "    }\n",
       "\n",
       "    .dataframe thead th {\n",
       "        text-align: right;\n",
       "    }\n",
       "</style>\n",
       "<table border=\"1\" class=\"dataframe\">\n",
       "  <thead>\n",
       "    <tr style=\"text-align: right;\">\n",
       "      <th></th>\n",
       "      <th>tweet_id</th>\n",
       "      <th>timestamp</th>\n",
       "      <th>source</th>\n",
       "      <th>text</th>\n",
       "      <th>expanded_urls</th>\n",
       "      <th>name</th>\n",
       "      <th>rating_numerator</th>\n",
       "      <th>rating_denominator</th>\n",
       "      <th>score_rating</th>\n",
       "      <th>dog_label</th>\n",
       "      <th>retweet_count</th>\n",
       "      <th>favorite_count</th>\n",
       "      <th>jpg_url</th>\n",
       "      <th>p1</th>\n",
       "      <th>p1_conf</th>\n",
       "    </tr>\n",
       "  </thead>\n",
       "  <tbody>\n",
       "    <tr>\n",
       "      <th>0</th>\n",
       "      <td>892420643555336193</td>\n",
       "      <td>2017-08-01 16:23:56</td>\n",
       "      <td>iphone</td>\n",
       "      <td>This is Phineas. He's a mystical boy. Only eve...</td>\n",
       "      <td>https://twitter.com/dog_rates/status/892420643...</td>\n",
       "      <td>Phineas</td>\n",
       "      <td>13.0</td>\n",
       "      <td>10.0</td>\n",
       "      <td>1.3</td>\n",
       "      <td>None</td>\n",
       "      <td>8472.0</td>\n",
       "      <td>38489.0</td>\n",
       "      <td>None</td>\n",
       "      <td>None</td>\n",
       "      <td>0.000000</td>\n",
       "    </tr>\n",
       "    <tr>\n",
       "      <th>1</th>\n",
       "      <td>892177421306343426</td>\n",
       "      <td>2017-08-01 00:17:27</td>\n",
       "      <td>iphone</td>\n",
       "      <td>This is Tilly. She's just checking pup on you....</td>\n",
       "      <td>https://twitter.com/dog_rates/status/892177421...</td>\n",
       "      <td>Tilly</td>\n",
       "      <td>13.0</td>\n",
       "      <td>10.0</td>\n",
       "      <td>1.3</td>\n",
       "      <td>None</td>\n",
       "      <td>6237.0</td>\n",
       "      <td>32964.0</td>\n",
       "      <td>https://pbs.twimg.com/media/DGGmoV4XsAAUL6n.jpg</td>\n",
       "      <td>Chihuahua</td>\n",
       "      <td>0.323581</td>\n",
       "    </tr>\n",
       "    <tr>\n",
       "      <th>2</th>\n",
       "      <td>891815181378084864</td>\n",
       "      <td>2017-07-31 00:18:03</td>\n",
       "      <td>iphone</td>\n",
       "      <td>This is Archie. He is a rare Norwegian Pouncin...</td>\n",
       "      <td>https://twitter.com/dog_rates/status/891815181...</td>\n",
       "      <td>Archie</td>\n",
       "      <td>12.0</td>\n",
       "      <td>10.0</td>\n",
       "      <td>1.2</td>\n",
       "      <td>None</td>\n",
       "      <td>4133.0</td>\n",
       "      <td>24829.0</td>\n",
       "      <td>https://pbs.twimg.com/media/DGBdLU1WsAANxJ9.jpg</td>\n",
       "      <td>Chihuahua</td>\n",
       "      <td>0.716012</td>\n",
       "    </tr>\n",
       "    <tr>\n",
       "      <th>3</th>\n",
       "      <td>891689557279858688</td>\n",
       "      <td>2017-07-30 15:58:51</td>\n",
       "      <td>iphone</td>\n",
       "      <td>This is Darla. She commenced a snooze mid meal...</td>\n",
       "      <td>https://twitter.com/dog_rates/status/891689557...</td>\n",
       "      <td>Darla</td>\n",
       "      <td>13.0</td>\n",
       "      <td>10.0</td>\n",
       "      <td>1.3</td>\n",
       "      <td>None</td>\n",
       "      <td>8597.0</td>\n",
       "      <td>41857.0</td>\n",
       "      <td>None</td>\n",
       "      <td>None</td>\n",
       "      <td>0.000000</td>\n",
       "    </tr>\n",
       "    <tr>\n",
       "      <th>4</th>\n",
       "      <td>891327558926688256</td>\n",
       "      <td>2017-07-29 16:00:24</td>\n",
       "      <td>iphone</td>\n",
       "      <td>This is Franklin. He would like you to stop ca...</td>\n",
       "      <td>https://twitter.com/dog_rates/status/891327558...</td>\n",
       "      <td>Franklin</td>\n",
       "      <td>12.0</td>\n",
       "      <td>10.0</td>\n",
       "      <td>1.2</td>\n",
       "      <td>None</td>\n",
       "      <td>9327.0</td>\n",
       "      <td>40017.0</td>\n",
       "      <td>https://pbs.twimg.com/media/DF6hr6BUMAAzZgT.jpg</td>\n",
       "      <td>basset</td>\n",
       "      <td>0.555712</td>\n",
       "    </tr>\n",
       "  </tbody>\n",
       "</table>\n",
       "</div>"
      ],
      "text/plain": [
       "             tweet_id           timestamp  source  \\\n",
       "0  892420643555336193 2017-08-01 16:23:56  iphone   \n",
       "1  892177421306343426 2017-08-01 00:17:27  iphone   \n",
       "2  891815181378084864 2017-07-31 00:18:03  iphone   \n",
       "3  891689557279858688 2017-07-30 15:58:51  iphone   \n",
       "4  891327558926688256 2017-07-29 16:00:24  iphone   \n",
       "\n",
       "                                                text  \\\n",
       "0  This is Phineas. He's a mystical boy. Only eve...   \n",
       "1  This is Tilly. She's just checking pup on you....   \n",
       "2  This is Archie. He is a rare Norwegian Pouncin...   \n",
       "3  This is Darla. She commenced a snooze mid meal...   \n",
       "4  This is Franklin. He would like you to stop ca...   \n",
       "\n",
       "                                       expanded_urls      name  \\\n",
       "0  https://twitter.com/dog_rates/status/892420643...   Phineas   \n",
       "1  https://twitter.com/dog_rates/status/892177421...     Tilly   \n",
       "2  https://twitter.com/dog_rates/status/891815181...    Archie   \n",
       "3  https://twitter.com/dog_rates/status/891689557...     Darla   \n",
       "4  https://twitter.com/dog_rates/status/891327558...  Franklin   \n",
       "\n",
       "   rating_numerator  rating_denominator  score_rating dog_label  \\\n",
       "0              13.0                10.0           1.3      None   \n",
       "1              13.0                10.0           1.3      None   \n",
       "2              12.0                10.0           1.2      None   \n",
       "3              13.0                10.0           1.3      None   \n",
       "4              12.0                10.0           1.2      None   \n",
       "\n",
       "   retweet_count  favorite_count  \\\n",
       "0         8472.0         38489.0   \n",
       "1         6237.0         32964.0   \n",
       "2         4133.0         24829.0   \n",
       "3         8597.0         41857.0   \n",
       "4         9327.0         40017.0   \n",
       "\n",
       "                                           jpg_url         p1   p1_conf  \n",
       "0                                             None       None  0.000000  \n",
       "1  https://pbs.twimg.com/media/DGGmoV4XsAAUL6n.jpg  Chihuahua  0.323581  \n",
       "2  https://pbs.twimg.com/media/DGBdLU1WsAANxJ9.jpg  Chihuahua  0.716012  \n",
       "3                                             None       None  0.000000  \n",
       "4  https://pbs.twimg.com/media/DF6hr6BUMAAzZgT.jpg     basset  0.555712  "
      ]
     },
     "execution_count": 330,
     "metadata": {},
     "output_type": "execute_result"
    }
   ],
   "source": [
    "df_twitter_copy.head()"
   ]
  },
  {
   "cell_type": "code",
   "execution_count": 333,
   "metadata": {},
   "outputs": [
    {
     "name": "stdout",
     "output_type": "stream",
     "text": [
      "<class 'pandas.core.frame.DataFrame'>\n",
      "Int64Index: 2093 entries, 0 to 2355\n",
      "Data columns (total 15 columns):\n",
      "tweet_id              2093 non-null object\n",
      "timestamp             2093 non-null datetime64[ns]\n",
      "source                2093 non-null object\n",
      "text                  2093 non-null object\n",
      "expanded_urls         2093 non-null object\n",
      "name                  2093 non-null object\n",
      "rating_numerator      2093 non-null float64\n",
      "rating_denominator    2093 non-null float64\n",
      "score_rating          2093 non-null float64\n",
      "dog_label             2093 non-null object\n",
      "retweet_count         2093 non-null float64\n",
      "favorite_count        2093 non-null float64\n",
      "jpg_url               2093 non-null object\n",
      "p1                    2093 non-null object\n",
      "p1_conf               2093 non-null float64\n",
      "dtypes: datetime64[ns](1), float64(6), object(8)\n",
      "memory usage: 261.6+ KB\n"
     ]
    }
   ],
   "source": [
    "df_twitter_copy.info()"
   ]
  },
  {
   "cell_type": "code",
   "execution_count": 334,
   "metadata": {},
   "outputs": [
    {
     "data": {
      "text/html": [
       "<div>\n",
       "<style scoped>\n",
       "    .dataframe tbody tr th:only-of-type {\n",
       "        vertical-align: middle;\n",
       "    }\n",
       "\n",
       "    .dataframe tbody tr th {\n",
       "        vertical-align: top;\n",
       "    }\n",
       "\n",
       "    .dataframe thead th {\n",
       "        text-align: right;\n",
       "    }\n",
       "</style>\n",
       "<table border=\"1\" class=\"dataframe\">\n",
       "  <thead>\n",
       "    <tr style=\"text-align: right;\">\n",
       "      <th></th>\n",
       "      <th>account_name</th>\n",
       "      <th>created_at</th>\n",
       "      <th>display_name</th>\n",
       "      <th>friends_count</th>\n",
       "      <th>language</th>\n",
       "      <th>location</th>\n",
       "      <th>user_id</th>\n",
       "    </tr>\n",
       "  </thead>\n",
       "  <tbody>\n",
       "    <tr>\n",
       "      <th>0</th>\n",
       "      <td>dog_rates</td>\n",
       "      <td>2015-11-15 21:41:29</td>\n",
       "      <td>WeRateDogs™</td>\n",
       "      <td>10</td>\n",
       "      <td>en</td>\n",
       "      <td>⇩ merch ⇩         DM YOUR DOGS</td>\n",
       "      <td>4196983835</td>\n",
       "    </tr>\n",
       "    <tr>\n",
       "      <th>1</th>\n",
       "      <td>tta_kay</td>\n",
       "      <td>2014-07-05 17:06:22</td>\n",
       "      <td>kay</td>\n",
       "      <td>479</td>\n",
       "      <td>en</td>\n",
       "      <td>not given</td>\n",
       "      <td>2676442024</td>\n",
       "    </tr>\n",
       "    <tr>\n",
       "      <th>2</th>\n",
       "      <td>Adeline_Garrett</td>\n",
       "      <td>2013-04-26 16:34:47</td>\n",
       "      <td>outofline carrot 🦊</td>\n",
       "      <td>415</td>\n",
       "      <td>en</td>\n",
       "      <td>912•LDN</td>\n",
       "      <td>1382344291</td>\n",
       "    </tr>\n",
       "    <tr>\n",
       "      <th>3</th>\n",
       "      <td>gwatsky</td>\n",
       "      <td>2010-01-10 03:38:19</td>\n",
       "      <td>W▵TSKY</td>\n",
       "      <td>865</td>\n",
       "      <td>en</td>\n",
       "      <td>yeah</td>\n",
       "      <td>103467620</td>\n",
       "    </tr>\n",
       "    <tr>\n",
       "      <th>4</th>\n",
       "      <td>SmilingYoshi</td>\n",
       "      <td>2011-06-12 20:38:49</td>\n",
       "      <td>SmilingYoshi</td>\n",
       "      <td>1412</td>\n",
       "      <td>en</td>\n",
       "      <td>Here.</td>\n",
       "      <td>316025613</td>\n",
       "    </tr>\n",
       "  </tbody>\n",
       "</table>\n",
       "</div>"
      ],
      "text/plain": [
       "      account_name          created_at        display_name  friends_count  \\\n",
       "0        dog_rates 2015-11-15 21:41:29         WeRateDogs™             10   \n",
       "1          tta_kay 2014-07-05 17:06:22                 kay            479   \n",
       "2  Adeline_Garrett 2013-04-26 16:34:47  outofline carrot 🦊            415   \n",
       "3          gwatsky 2010-01-10 03:38:19              W▵TSKY            865   \n",
       "4     SmilingYoshi 2011-06-12 20:38:49        SmilingYoshi           1412   \n",
       "\n",
       "  language                        location     user_id  \n",
       "0       en  ⇩ merch ⇩         DM YOUR DOGS  4196983835  \n",
       "1       en                       not given  2676442024  \n",
       "2       en                         912•LDN  1382344291  \n",
       "3       en                            yeah   103467620  \n",
       "4       en                           Here.   316025613  "
      ]
     },
     "execution_count": 334,
     "metadata": {},
     "output_type": "execute_result"
    }
   ],
   "source": [
    "df_user_extract_copy.head()"
   ]
  },
  {
   "cell_type": "code",
   "execution_count": 335,
   "metadata": {},
   "outputs": [
    {
     "name": "stdout",
     "output_type": "stream",
     "text": [
      "<class 'pandas.core.frame.DataFrame'>\n",
      "RangeIndex: 718 entries, 0 to 717\n",
      "Data columns (total 7 columns):\n",
      "account_name     718 non-null object\n",
      "created_at       718 non-null datetime64[ns]\n",
      "display_name     718 non-null object\n",
      "friends_count    718 non-null int64\n",
      "language         718 non-null object\n",
      "location         718 non-null object\n",
      "user_id          718 non-null object\n",
      "dtypes: datetime64[ns](1), int64(1), object(5)\n",
      "memory usage: 39.3+ KB\n"
     ]
    }
   ],
   "source": [
    "df_user_extract_copy.info()"
   ]
  },
  {
   "cell_type": "markdown",
   "metadata": {},
   "source": [
    "Now that we have two clean and tidy datasets to work with, lets export them each to a csv file."
   ]
  },
  {
   "cell_type": "code",
   "execution_count": 400,
   "metadata": {},
   "outputs": [],
   "source": [
    "df_twitter_copy.to_csv('data/twitter_archive_master.csv', index = False, encoding='utf-8')\n",
    "df_user_extract_copy.to_csv('data/user_extract_master.csv', index = False, encoding = 'utf-8')"
   ]
  },
  {
   "cell_type": "markdown",
   "metadata": {},
   "source": [
    "# Analyze"
   ]
  },
  {
   "cell_type": "code",
   "execution_count": 2,
   "metadata": {},
   "outputs": [],
   "source": [
    "import pandas as pd\n",
    "import numpy as np\n",
    "import matplotlib.pyplot as plt\n",
    "import seaborn as sns\n",
    "from IPython.display import Image\n",
    "from IPython.core.display import HTML \n",
    "from ipywidgets import Image\n",
    "import requests\n",
    "import shutil\n",
    "% matplotlib inline"
   ]
  },
  {
   "cell_type": "code",
   "execution_count": 3,
   "metadata": {},
   "outputs": [],
   "source": [
    "df_twitter = pd.read_csv('data/twitter_archive_master.csv')\n",
    "user_extract = pd.read_csv('data/user_extract_master.csv')"
   ]
  },
  {
   "cell_type": "markdown",
   "metadata": {},
   "source": [
    "First, lets get some basic info about each dataset\n",
    "\n",
    "Note: For some reason, `tweet_id` was turned into an integer column, same for `user_extract`'s `user_id` and turned the `created_at` column to a string."
   ]
  },
  {
   "cell_type": "code",
   "execution_count": 4,
   "metadata": {},
   "outputs": [],
   "source": [
    "df_twitter['tweet_id'] = df_twitter['tweet_id'].astype(str)"
   ]
  },
  {
   "cell_type": "code",
   "execution_count": 5,
   "metadata": {},
   "outputs": [],
   "source": [
    "user_extract['user_id'] = user_extract['user_id'].astype(str)\n",
    "user_extract['created_at'] = pd.to_datetime(user_extract['created_at'])"
   ]
  },
  {
   "cell_type": "code",
   "execution_count": 6,
   "metadata": {},
   "outputs": [
    {
     "name": "stdout",
     "output_type": "stream",
     "text": [
      "<class 'pandas.core.frame.DataFrame'>\n",
      "RangeIndex: 2093 entries, 0 to 2092\n",
      "Data columns (total 15 columns):\n",
      "tweet_id              2093 non-null object\n",
      "timestamp             2093 non-null object\n",
      "source                2093 non-null object\n",
      "text                  2093 non-null object\n",
      "expanded_urls         2093 non-null object\n",
      "name                  2093 non-null object\n",
      "rating_numerator      2093 non-null float64\n",
      "rating_denominator    2093 non-null float64\n",
      "score_rating          2093 non-null float64\n",
      "dog_label             2093 non-null object\n",
      "retweet_count         2093 non-null float64\n",
      "favorite_count        2093 non-null float64\n",
      "jpg_url               2093 non-null object\n",
      "p1                    2093 non-null object\n",
      "p1_conf               2093 non-null float64\n",
      "dtypes: float64(6), object(9)\n",
      "memory usage: 245.4+ KB\n"
     ]
    }
   ],
   "source": [
    "df_twitter.info()"
   ]
  },
  {
   "cell_type": "code",
   "execution_count": 7,
   "metadata": {},
   "outputs": [
    {
     "data": {
      "text/html": [
       "<div>\n",
       "<style scoped>\n",
       "    .dataframe tbody tr th:only-of-type {\n",
       "        vertical-align: middle;\n",
       "    }\n",
       "\n",
       "    .dataframe tbody tr th {\n",
       "        vertical-align: top;\n",
       "    }\n",
       "\n",
       "    .dataframe thead th {\n",
       "        text-align: right;\n",
       "    }\n",
       "</style>\n",
       "<table border=\"1\" class=\"dataframe\">\n",
       "  <thead>\n",
       "    <tr style=\"text-align: right;\">\n",
       "      <th></th>\n",
       "      <th>rating_numerator</th>\n",
       "      <th>rating_denominator</th>\n",
       "      <th>score_rating</th>\n",
       "      <th>retweet_count</th>\n",
       "      <th>favorite_count</th>\n",
       "      <th>p1_conf</th>\n",
       "    </tr>\n",
       "  </thead>\n",
       "  <tbody>\n",
       "    <tr>\n",
       "      <th>count</th>\n",
       "      <td>2093.000000</td>\n",
       "      <td>2093.000000</td>\n",
       "      <td>2093.000000</td>\n",
       "      <td>2093.000000</td>\n",
       "      <td>2093.000000</td>\n",
       "      <td>2093.000000</td>\n",
       "    </tr>\n",
       "    <tr>\n",
       "      <th>mean</th>\n",
       "      <td>12.153741</td>\n",
       "      <td>10.453416</td>\n",
       "      <td>1.165438</td>\n",
       "      <td>2769.123268</td>\n",
       "      <td>8902.318681</td>\n",
       "      <td>0.429626</td>\n",
       "    </tr>\n",
       "    <tr>\n",
       "      <th>std</th>\n",
       "      <td>40.376792</td>\n",
       "      <td>6.648822</td>\n",
       "      <td>3.966993</td>\n",
       "      <td>4803.064984</td>\n",
       "      <td>12797.164312</td>\n",
       "      <td>0.356420</td>\n",
       "    </tr>\n",
       "    <tr>\n",
       "      <th>min</th>\n",
       "      <td>0.000000</td>\n",
       "      <td>7.000000</td>\n",
       "      <td>0.000000</td>\n",
       "      <td>12.000000</td>\n",
       "      <td>80.000000</td>\n",
       "      <td>0.000000</td>\n",
       "    </tr>\n",
       "    <tr>\n",
       "      <th>25%</th>\n",
       "      <td>10.000000</td>\n",
       "      <td>10.000000</td>\n",
       "      <td>1.000000</td>\n",
       "      <td>612.000000</td>\n",
       "      <td>1982.000000</td>\n",
       "      <td>0.000000</td>\n",
       "    </tr>\n",
       "    <tr>\n",
       "      <th>50%</th>\n",
       "      <td>11.000000</td>\n",
       "      <td>10.000000</td>\n",
       "      <td>1.100000</td>\n",
       "      <td>1342.000000</td>\n",
       "      <td>4056.000000</td>\n",
       "      <td>0.422806</td>\n",
       "    </tr>\n",
       "    <tr>\n",
       "      <th>75%</th>\n",
       "      <td>12.000000</td>\n",
       "      <td>10.000000</td>\n",
       "      <td>1.200000</td>\n",
       "      <td>3157.000000</td>\n",
       "      <td>11140.000000</td>\n",
       "      <td>0.759945</td>\n",
       "    </tr>\n",
       "    <tr>\n",
       "      <th>max</th>\n",
       "      <td>1776.000000</td>\n",
       "      <td>170.000000</td>\n",
       "      <td>177.600000</td>\n",
       "      <td>84387.000000</td>\n",
       "      <td>163210.000000</td>\n",
       "      <td>0.999956</td>\n",
       "    </tr>\n",
       "  </tbody>\n",
       "</table>\n",
       "</div>"
      ],
      "text/plain": [
       "       rating_numerator  rating_denominator  score_rating  retweet_count  \\\n",
       "count       2093.000000         2093.000000   2093.000000    2093.000000   \n",
       "mean          12.153741           10.453416      1.165438    2769.123268   \n",
       "std           40.376792            6.648822      3.966993    4803.064984   \n",
       "min            0.000000            7.000000      0.000000      12.000000   \n",
       "25%           10.000000           10.000000      1.000000     612.000000   \n",
       "50%           11.000000           10.000000      1.100000    1342.000000   \n",
       "75%           12.000000           10.000000      1.200000    3157.000000   \n",
       "max         1776.000000          170.000000    177.600000   84387.000000   \n",
       "\n",
       "       favorite_count      p1_conf  \n",
       "count     2093.000000  2093.000000  \n",
       "mean      8902.318681     0.429626  \n",
       "std      12797.164312     0.356420  \n",
       "min         80.000000     0.000000  \n",
       "25%       1982.000000     0.000000  \n",
       "50%       4056.000000     0.422806  \n",
       "75%      11140.000000     0.759945  \n",
       "max     163210.000000     0.999956  "
      ]
     },
     "execution_count": 7,
     "metadata": {},
     "output_type": "execute_result"
    }
   ],
   "source": [
    "df_twitter.describe()"
   ]
  },
  {
   "cell_type": "markdown",
   "metadata": {},
   "source": [
    "The table above gives us a good amount of valuable information, most notably, the averages for each column. The average rating numerator and denominators are 12 and 10 respectively. This is not surprising given that most of the ratings always have a numerator that is larger than the denominator. You can even see in the `max` row that one scores numerator was 1776, or was it?"
   ]
  },
  {
   "cell_type": "code",
   "execution_count": 346,
   "metadata": {},
   "outputs": [
    {
     "data": {
      "text/plain": [
       "\"This is Atticus. He's quite simply America af. 1776/10 https://t.co/GRXwMxLBkh\""
      ]
     },
     "execution_count": 346,
     "metadata": {},
     "output_type": "execute_result"
    }
   ],
   "source": [
    "df_twitter.text.loc[767]"
   ]
  },
  {
   "cell_type": "markdown",
   "metadata": {},
   "source": [
    "The numerator was indeed 1776. Which is probably why we have a max score rating of 177.6, we'll see how it looks in a visualization later on."
   ]
  },
  {
   "cell_type": "markdown",
   "metadata": {},
   "source": [
    "![Very American Indeed](https://pbs.twimg.com/media/CmgBZ7kWcAAlzFD.jpg)"
   ]
  },
  {
   "cell_type": "markdown",
   "metadata": {},
   "source": [
    "Very American indeed! To view the this tweet [click here](https://twitter.com/dog_rates/status/749981277374128128/photo/1)"
   ]
  },
  {
   "cell_type": "markdown",
   "metadata": {},
   "source": [
    "The average retweet and favorite count equal to 2769 and 8902 respectively, not bad at all. The max for these values are 84387 and 163210. Lets find this most popular tweet."
   ]
  },
  {
   "cell_type": "code",
   "execution_count": 347,
   "metadata": {},
   "outputs": [
    {
     "data": {
      "text/html": [
       "<div>\n",
       "<style scoped>\n",
       "    .dataframe tbody tr th:only-of-type {\n",
       "        vertical-align: middle;\n",
       "    }\n",
       "\n",
       "    .dataframe tbody tr th {\n",
       "        vertical-align: top;\n",
       "    }\n",
       "\n",
       "    .dataframe thead th {\n",
       "        text-align: right;\n",
       "    }\n",
       "</style>\n",
       "<table border=\"1\" class=\"dataframe\">\n",
       "  <thead>\n",
       "    <tr style=\"text-align: right;\">\n",
       "      <th></th>\n",
       "      <th>tweet_id</th>\n",
       "      <th>timestamp</th>\n",
       "      <th>source</th>\n",
       "      <th>text</th>\n",
       "      <th>expanded_urls</th>\n",
       "      <th>name</th>\n",
       "      <th>rating_numerator</th>\n",
       "      <th>rating_denominator</th>\n",
       "      <th>score_rating</th>\n",
       "      <th>dog_label</th>\n",
       "      <th>retweet_count</th>\n",
       "      <th>favorite_count</th>\n",
       "      <th>jpg_url</th>\n",
       "      <th>p1</th>\n",
       "      <th>p1_conf</th>\n",
       "    </tr>\n",
       "  </thead>\n",
       "  <tbody>\n",
       "    <tr>\n",
       "      <th>822</th>\n",
       "      <td>744234799360020481</td>\n",
       "      <td>2016-06-18 18:26:18</td>\n",
       "      <td>iphone</td>\n",
       "      <td>Here's a doggo realizing you can stand in a po...</td>\n",
       "      <td>https://twitter.com/dog_rates/status/744234799...</td>\n",
       "      <td>None</td>\n",
       "      <td>13.0</td>\n",
       "      <td>10.0</td>\n",
       "      <td>1.3</td>\n",
       "      <td>doggo</td>\n",
       "      <td>84387.0</td>\n",
       "      <td>163210.0</td>\n",
       "      <td>https://pbs.twimg.com/ext_tw_video_thumb/74423...</td>\n",
       "      <td>Labrador_retriever</td>\n",
       "      <td>0.825333</td>\n",
       "    </tr>\n",
       "  </tbody>\n",
       "</table>\n",
       "</div>"
      ],
      "text/plain": [
       "               tweet_id            timestamp  source  \\\n",
       "822  744234799360020481  2016-06-18 18:26:18  iphone   \n",
       "\n",
       "                                                  text  \\\n",
       "822  Here's a doggo realizing you can stand in a po...   \n",
       "\n",
       "                                         expanded_urls  name  \\\n",
       "822  https://twitter.com/dog_rates/status/744234799...  None   \n",
       "\n",
       "     rating_numerator  rating_denominator  score_rating dog_label  \\\n",
       "822              13.0                10.0           1.3     doggo   \n",
       "\n",
       "     retweet_count  favorite_count  \\\n",
       "822        84387.0        163210.0   \n",
       "\n",
       "                                               jpg_url                  p1  \\\n",
       "822  https://pbs.twimg.com/ext_tw_video_thumb/74423...  Labrador_retriever   \n",
       "\n",
       "      p1_conf  \n",
       "822  0.825333  "
      ]
     },
     "execution_count": 347,
     "metadata": {},
     "output_type": "execute_result"
    }
   ],
   "source": [
    "df_twitter[df_twitter['retweet_count'] == 84387]"
   ]
  },
  {
   "cell_type": "code",
   "execution_count": 348,
   "metadata": {},
   "outputs": [
    {
     "data": {
      "text/plain": [
       "\"Here's a doggo realizing you can stand in a pool. 13/10 enlightened af (vid by Tina Conrad) https://t.co/7wE9LTEXC4\""
      ]
     },
     "execution_count": 348,
     "metadata": {},
     "output_type": "execute_result"
    }
   ],
   "source": [
    "df_twitter.text.loc[822]"
   ]
  },
  {
   "cell_type": "markdown",
   "metadata": {},
   "source": [
    "[click here](https://twitter.com/dog_rates/status/744234799360020481) to view the video. The most popular tweet in the archive is about a dog becoming so enlightened by standing in a pool!"
   ]
  },
  {
   "cell_type": "markdown",
   "metadata": {},
   "source": [
    "For `score_rating` the average score is of course over 1 because [they're good dogs brent](https://knowyourmeme.com/memes/theyre-good-dogs-brent). Let's look at the dogs with the highest score rating (besides the American dog). We will look at which breeds of dogs have the highest scores. Since there are so many different breeds, I will focus on the top 50."
   ]
  },
  {
   "cell_type": "code",
   "execution_count": 49,
   "metadata": {},
   "outputs": [],
   "source": [
    "breed_ratings = df_twitter.groupby('p1')['score_rating'].mean()"
   ]
  },
  {
   "cell_type": "code",
   "execution_count": 50,
   "metadata": {},
   "outputs": [],
   "source": [
    "breed_ratings = breed_ratings.sort_values(ascending = False)"
   ]
  },
  {
   "cell_type": "code",
   "execution_count": 51,
   "metadata": {},
   "outputs": [
    {
     "data": {
      "image/png": "[encoded data removed]",
      "text/plain": [
       "<matplotlib.figure.Figure at 0x179d55c81d0>"
      ]
     },
     "metadata": {},
     "output_type": "display_data"
    }
   ],
   "source": [
    "plt.style.use('seaborn')\n",
    "breed_ax = breed_ratings[1:51].plot(kind='bar', figsize=(20,8))\n",
    "\n",
    "breed_ax.set_title(\"Highest Rated Dog Breeds on WeRateDogs\", fontsize = 24)\n",
    "breed_ax.set_xlabel(\"\")\n",
    "plt.savefig('plots/breed_ratings.png', bbox_inches='tight')"
   ]
  },
  {
   "cell_type": "markdown",
   "metadata": {},
   "source": [
    "The Saluki breed looks to be the top rated. \n",
    "\n",
    "![saluki](https://s3.amazonaws.com/cdn-origin-etr.akc.org/wp-content/uploads/2017/11/12224803/Saluki-On-White-01.jpg)"
   ]
  },
  {
   "cell_type": "markdown",
   "metadata": {},
   "source": [
    "According to the [wikipedia page](https://en.wikipedia.org/wiki/Saluki):\n",
    "> The Saluki is a dog originally bred in the Fertile Crescent. The saluki is classed as a sighthound and is typically deep-chested and long-legged. Salukis are sighthounds—hunting by sight—and run their quarry down to kill or retrieve it. Historically, salukis were used for hunting by nomadic tribes. Typical quarry included the gazelle, hare, fox, and jackal.\n",
    "\n",
    "Now lets look at this breed in the twitter archive"
   ]
  },
  {
   "cell_type": "code",
   "execution_count": 356,
   "metadata": {},
   "outputs": [
    {
     "data": {
      "text/html": [
       "<div>\n",
       "<style scoped>\n",
       "    .dataframe tbody tr th:only-of-type {\n",
       "        vertical-align: middle;\n",
       "    }\n",
       "\n",
       "    .dataframe tbody tr th {\n",
       "        vertical-align: top;\n",
       "    }\n",
       "\n",
       "    .dataframe thead th {\n",
       "        text-align: right;\n",
       "    }\n",
       "</style>\n",
       "<table border=\"1\" class=\"dataframe\">\n",
       "  <thead>\n",
       "    <tr style=\"text-align: right;\">\n",
       "      <th></th>\n",
       "      <th>tweet_id</th>\n",
       "      <th>timestamp</th>\n",
       "      <th>source</th>\n",
       "      <th>text</th>\n",
       "      <th>expanded_urls</th>\n",
       "      <th>name</th>\n",
       "      <th>rating_numerator</th>\n",
       "      <th>rating_denominator</th>\n",
       "      <th>score_rating</th>\n",
       "      <th>dog_label</th>\n",
       "      <th>retweet_count</th>\n",
       "      <th>favorite_count</th>\n",
       "      <th>jpg_url</th>\n",
       "      <th>p1</th>\n",
       "      <th>p1_conf</th>\n",
       "    </tr>\n",
       "  </thead>\n",
       "  <tbody>\n",
       "    <tr>\n",
       "      <th>50</th>\n",
       "      <td>881666595344535552</td>\n",
       "      <td>2017-07-03 00:11:11</td>\n",
       "      <td>iphone</td>\n",
       "      <td>This is Gary. He couldn't miss this puppertuni...</td>\n",
       "      <td>https://twitter.com/dog_rates/status/881666595...</td>\n",
       "      <td>Gary</td>\n",
       "      <td>13.0</td>\n",
       "      <td>10.0</td>\n",
       "      <td>1.3</td>\n",
       "      <td>None</td>\n",
       "      <td>10622.0</td>\n",
       "      <td>50181.0</td>\n",
       "      <td>https://pbs.twimg.com/media/DDxPFwbWAAEbVVR.jpg</td>\n",
       "      <td>Saluki</td>\n",
       "      <td>0.529012</td>\n",
       "    </tr>\n",
       "    <tr>\n",
       "      <th>70</th>\n",
       "      <td>877316821321428993</td>\n",
       "      <td>2017-06-21 00:06:44</td>\n",
       "      <td>iphone</td>\n",
       "      <td>Meet Dante. At first he wasn't a fan of his ne...</td>\n",
       "      <td>https://twitter.com/dog_rates/status/877316821...</td>\n",
       "      <td>Dante</td>\n",
       "      <td>13.0</td>\n",
       "      <td>10.0</td>\n",
       "      <td>1.3</td>\n",
       "      <td>None</td>\n",
       "      <td>5168.0</td>\n",
       "      <td>27194.0</td>\n",
       "      <td>https://pbs.twimg.com/media/DCza_vtXkAQXGpC.jpg</td>\n",
       "      <td>Saluki</td>\n",
       "      <td>0.509967</td>\n",
       "    </tr>\n",
       "    <tr>\n",
       "      <th>362</th>\n",
       "      <td>817120970343411712</td>\n",
       "      <td>2017-01-05 21:29:55</td>\n",
       "      <td>iphone</td>\n",
       "      <td>Name a more iconic quartet... I'll wait. 13/10...</td>\n",
       "      <td>https://twitter.com/dog_rates/status/817120970...</td>\n",
       "      <td>None</td>\n",
       "      <td>13.0</td>\n",
       "      <td>10.0</td>\n",
       "      <td>1.3</td>\n",
       "      <td>None</td>\n",
       "      <td>2910.0</td>\n",
       "      <td>13099.0</td>\n",
       "      <td>https://pbs.twimg.com/media/C1b_LSYUsAAJ494.jpg</td>\n",
       "      <td>Saluki</td>\n",
       "      <td>0.568809</td>\n",
       "    </tr>\n",
       "    <tr>\n",
       "      <th>762</th>\n",
       "      <td>750056684286914561</td>\n",
       "      <td>2016-07-04 20:00:23</td>\n",
       "      <td>tweetdeck</td>\n",
       "      <td>This is Jameson. He had a few too many in the ...</td>\n",
       "      <td>https://twitter.com/dog_rates/status/750056684...</td>\n",
       "      <td>Jameson</td>\n",
       "      <td>11.0</td>\n",
       "      <td>10.0</td>\n",
       "      <td>1.1</td>\n",
       "      <td>None</td>\n",
       "      <td>975.0</td>\n",
       "      <td>3347.0</td>\n",
       "      <td>https://pbs.twimg.com/media/Cmfx2oNW8AAGg4H.jpg</td>\n",
       "      <td>Saluki</td>\n",
       "      <td>0.484428</td>\n",
       "    </tr>\n",
       "  </tbody>\n",
       "</table>\n",
       "</div>"
      ],
      "text/plain": [
       "               tweet_id            timestamp     source  \\\n",
       "50   881666595344535552  2017-07-03 00:11:11     iphone   \n",
       "70   877316821321428993  2017-06-21 00:06:44     iphone   \n",
       "362  817120970343411712  2017-01-05 21:29:55     iphone   \n",
       "762  750056684286914561  2016-07-04 20:00:23  tweetdeck   \n",
       "\n",
       "                                                  text  \\\n",
       "50   This is Gary. He couldn't miss this puppertuni...   \n",
       "70   Meet Dante. At first he wasn't a fan of his ne...   \n",
       "362  Name a more iconic quartet... I'll wait. 13/10...   \n",
       "762  This is Jameson. He had a few too many in the ...   \n",
       "\n",
       "                                         expanded_urls     name  \\\n",
       "50   https://twitter.com/dog_rates/status/881666595...     Gary   \n",
       "70   https://twitter.com/dog_rates/status/877316821...    Dante   \n",
       "362  https://twitter.com/dog_rates/status/817120970...     None   \n",
       "762  https://twitter.com/dog_rates/status/750056684...  Jameson   \n",
       "\n",
       "     rating_numerator  rating_denominator  score_rating dog_label  \\\n",
       "50               13.0                10.0           1.3      None   \n",
       "70               13.0                10.0           1.3      None   \n",
       "362              13.0                10.0           1.3      None   \n",
       "762              11.0                10.0           1.1      None   \n",
       "\n",
       "     retweet_count  favorite_count  \\\n",
       "50         10622.0         50181.0   \n",
       "70          5168.0         27194.0   \n",
       "362         2910.0         13099.0   \n",
       "762          975.0          3347.0   \n",
       "\n",
       "                                             jpg_url      p1   p1_conf  \n",
       "50   https://pbs.twimg.com/media/DDxPFwbWAAEbVVR.jpg  Saluki  0.529012  \n",
       "70   https://pbs.twimg.com/media/DCza_vtXkAQXGpC.jpg  Saluki  0.509967  \n",
       "362  https://pbs.twimg.com/media/C1b_LSYUsAAJ494.jpg  Saluki  0.568809  \n",
       "762  https://pbs.twimg.com/media/Cmfx2oNW8AAGg4H.jpg  Saluki  0.484428  "
      ]
     },
     "execution_count": 356,
     "metadata": {},
     "output_type": "execute_result"
    }
   ],
   "source": [
    "df_twitter[df_twitter.p1 == \"Saluki\"]"
   ]
  },
  {
   "cell_type": "markdown",
   "metadata": {},
   "source": [
    "<img src=\"https://pbs.twimg.com/media/DDxPFwbWAAEbVVR.jpg\" alt=\"saluki1\" width=\"200\"/> <img src=\"https://pbs.twimg.com/media/DCza_vtXkAQXGpC.jpg\" alt=\"saluki2\" width=\"200\"/> <img src=\"https://pbs.twimg.com/media/C1b_LSYUsAAJ494.jpg\" alt=\"saluki3\" width=\"200\"/> <img src=\"https://pbs.twimg.com/media/Cmfx2oNW8AAGg4H.jpg\" alt=\"saluki4\" width=\"200\"/>"
   ]
  },
  {
   "cell_type": "markdown",
   "metadata": {},
   "source": [
    "There were only 4 data points for the \"Saluki\" Breed. But, it looks like the algorithm was not correct in 3 of 4 of these photos. These results made me curious about the confidence level of each breed."
   ]
  },
  {
   "cell_type": "code",
   "execution_count": 43,
   "metadata": {},
   "outputs": [],
   "source": [
    "breed_conf = df_twitter.groupby('p1')['p1_conf'].mean()"
   ]
  },
  {
   "cell_type": "code",
   "execution_count": 44,
   "metadata": {},
   "outputs": [],
   "source": [
    "breed_conf = breed_conf.sort_values(ascending = False)"
   ]
  },
  {
   "cell_type": "code",
   "execution_count": 47,
   "metadata": {},
   "outputs": [
    {
     "data": {
      "image/png": "[encoded data removed]",
      "text/plain": [
       "<matplotlib.figure.Figure at 0x179d6166ba8>"
      ]
     },
     "metadata": {},
     "output_type": "display_data"
    }
   ],
   "source": [
    "plt.style.use('seaborn')\n",
    "breed_ax = breed_conf[0:51].plot(kind = \"bar\",figsize=(20,8))\n",
    "\n",
    "breed_ax.set_title(\"Breeds with Highest Image Recognition\", fontsize = 24)\n",
    "breed_ax.set_xlabel(\"\")\n",
    "plt.savefig('plots/breed_ax.png', bbox_inches='tight')"
   ]
  },
  {
   "cell_type": "markdown",
   "metadata": {},
   "source": [
    "The most recognizable dog to the algorithm for the image predictions is the Komondor breed."
   ]
  },
  {
   "cell_type": "markdown",
   "metadata": {},
   "source": [
    "![komondor](https://upload.wikimedia.org/wikipedia/commons/thumb/6/66/Komondor_dog_breed.jpg/280px-Komondor_dog_breed.jpg)"
   ]
  },
  {
   "cell_type": "markdown",
   "metadata": {},
   "source": [
    "Now, let's see which category of dogs is the most popular. And by category, I mean doggo, pupper, puppo, or floofer. Here is a dictionary if you are not familiar with those terms.\n",
    "\n",
    "![dogtionary](https://d17h27t6h515a5.cloudfront.net/topher/2017/October/59e04ceb_dogtionary-combined/dogtionary-combined.png)"
   ]
  },
  {
   "cell_type": "code",
   "execution_count": 25,
   "metadata": {},
   "outputs": [
    {
     "data": {
      "text/plain": [
       "0.11"
      ]
     },
     "execution_count": 25,
     "metadata": {},
     "output_type": "execute_result"
    }
   ],
   "source": [
    "round(len(df_twitter[df_twitter.dog_label == 'pupper']) / len(df_twitter.dog_label), 2)"
   ]
  },
  {
   "cell_type": "code",
   "execution_count": 26,
   "metadata": {},
   "outputs": [
    {
     "data": {
      "text/plain": [
       "0.03"
      ]
     },
     "execution_count": 26,
     "metadata": {},
     "output_type": "execute_result"
    }
   ],
   "source": [
    "round(len(df_twitter[df_twitter.dog_label == 'doggo']) / len(df_twitter.dog_label), 2)"
   ]
  },
  {
   "cell_type": "code",
   "execution_count": 27,
   "metadata": {},
   "outputs": [
    {
     "data": {
      "text/plain": [
       "0.01"
      ]
     },
     "execution_count": 27,
     "metadata": {},
     "output_type": "execute_result"
    }
   ],
   "source": [
    "round(len(df_twitter[df_twitter.dog_label == 'puppo']) / len(df_twitter.dog_label), 2)"
   ]
  },
  {
   "cell_type": "code",
   "execution_count": 30,
   "metadata": {},
   "outputs": [
    {
     "data": {
      "text/plain": [
       "0.005"
      ]
     },
     "execution_count": 30,
     "metadata": {},
     "output_type": "execute_result"
    }
   ],
   "source": [
    "round(len(df_twitter[df_twitter.dog_label == 'floofer']) / len(df_twitter.dog_label), 3)"
   ]
  },
  {
   "cell_type": "markdown",
   "metadata": {},
   "source": [
    "On average, most dogs end up in the pupper category. Which catagory has the highest score rating?"
   ]
  },
  {
   "cell_type": "code",
   "execution_count": 33,
   "metadata": {},
   "outputs": [],
   "source": [
    "label_rating = df_twitter.groupby('dog_label')['score_rating'].mean()[1:]"
   ]
  },
  {
   "cell_type": "code",
   "execution_count": 52,
   "metadata": {},
   "outputs": [
    {
     "data": {
      "image/png": "[encoded data removed]",
      "text/plain": [
       "<matplotlib.figure.Figure at 0x179d62d0f98>"
      ]
     },
     "metadata": {},
     "output_type": "display_data"
    }
   ],
   "source": [
    "plt.style.use('seaborn')\n",
    "rating_ax = label_rating.sort_values(ascending = False).plot(kind='bar', figsize=(12,5))\n",
    "\n",
    "rating_ax.set_title(\"Dog Label Ratings\", fontsize = 24)\n",
    "plt.xticks(rotation=0)\n",
    "rating_ax.set_xlabel(\"\")\n",
    "rating_ax.set_ylabel('Average Score')\n",
    "plt.savefig('plots/doglabel_rating.png', bbox_inches='tight')"
   ]
  },
  {
   "cell_type": "markdown",
   "metadata": {},
   "source": [
    "Looks like puppo's have the highest average score rating."
   ]
  },
  {
   "cell_type": "markdown",
   "metadata": {},
   "source": [
    "Let's now move on to the extracted user data. This data comes from the users that get tagged in certain tweets by WeRateDogs."
   ]
  },
  {
   "cell_type": "code",
   "execution_count": 53,
   "metadata": {},
   "outputs": [
    {
     "name": "stdout",
     "output_type": "stream",
     "text": [
      "<class 'pandas.core.frame.DataFrame'>\n",
      "RangeIndex: 718 entries, 0 to 717\n",
      "Data columns (total 7 columns):\n",
      "account_name     718 non-null object\n",
      "created_at       718 non-null datetime64[ns]\n",
      "display_name     718 non-null object\n",
      "friends_count    718 non-null int64\n",
      "language         718 non-null object\n",
      "location         718 non-null object\n",
      "user_id          718 non-null object\n",
      "dtypes: datetime64[ns](1), int64(1), object(5)\n",
      "memory usage: 39.3+ KB\n"
     ]
    }
   ],
   "source": [
    "user_extract.info()"
   ]
  },
  {
   "cell_type": "code",
   "execution_count": 54,
   "metadata": {},
   "outputs": [
    {
     "data": {
      "text/html": [
       "<div>\n",
       "<style scoped>\n",
       "    .dataframe tbody tr th:only-of-type {\n",
       "        vertical-align: middle;\n",
       "    }\n",
       "\n",
       "    .dataframe tbody tr th {\n",
       "        vertical-align: top;\n",
       "    }\n",
       "\n",
       "    .dataframe thead th {\n",
       "        text-align: right;\n",
       "    }\n",
       "</style>\n",
       "<table border=\"1\" class=\"dataframe\">\n",
       "  <thead>\n",
       "    <tr style=\"text-align: right;\">\n",
       "      <th></th>\n",
       "      <th>friends_count</th>\n",
       "    </tr>\n",
       "  </thead>\n",
       "  <tbody>\n",
       "    <tr>\n",
       "      <th>count</th>\n",
       "      <td>718.000000</td>\n",
       "    </tr>\n",
       "    <tr>\n",
       "      <th>mean</th>\n",
       "      <td>706.387187</td>\n",
       "    </tr>\n",
       "    <tr>\n",
       "      <th>std</th>\n",
       "      <td>4089.573579</td>\n",
       "    </tr>\n",
       "    <tr>\n",
       "      <th>min</th>\n",
       "      <td>2.000000</td>\n",
       "    </tr>\n",
       "    <tr>\n",
       "      <th>25%</th>\n",
       "      <td>185.250000</td>\n",
       "    </tr>\n",
       "    <tr>\n",
       "      <th>50%</th>\n",
       "      <td>302.500000</td>\n",
       "    </tr>\n",
       "    <tr>\n",
       "      <th>75%</th>\n",
       "      <td>494.750000</td>\n",
       "    </tr>\n",
       "    <tr>\n",
       "      <th>max</th>\n",
       "      <td>76707.000000</td>\n",
       "    </tr>\n",
       "  </tbody>\n",
       "</table>\n",
       "</div>"
      ],
      "text/plain": [
       "       friends_count\n",
       "count     718.000000\n",
       "mean      706.387187\n",
       "std      4089.573579\n",
       "min         2.000000\n",
       "25%       185.250000\n",
       "50%       302.500000\n",
       "75%       494.750000\n",
       "max     76707.000000"
      ]
     },
     "execution_count": 54,
     "metadata": {},
     "output_type": "execute_result"
    }
   ],
   "source": [
    "user_extract.describe()"
   ]
  },
  {
   "cell_type": "markdown",
   "metadata": {},
   "source": [
    "Average friend count is about 700, while the largest user has over 76,000 friends"
   ]
  },
  {
   "cell_type": "code",
   "execution_count": 55,
   "metadata": {},
   "outputs": [
    {
     "data": {
      "text/html": [
       "<div>\n",
       "<style scoped>\n",
       "    .dataframe tbody tr th:only-of-type {\n",
       "        vertical-align: middle;\n",
       "    }\n",
       "\n",
       "    .dataframe tbody tr th {\n",
       "        vertical-align: top;\n",
       "    }\n",
       "\n",
       "    .dataframe thead th {\n",
       "        text-align: right;\n",
       "    }\n",
       "</style>\n",
       "<table border=\"1\" class=\"dataframe\">\n",
       "  <thead>\n",
       "    <tr style=\"text-align: right;\">\n",
       "      <th></th>\n",
       "      <th>account_name</th>\n",
       "      <th>created_at</th>\n",
       "      <th>display_name</th>\n",
       "      <th>friends_count</th>\n",
       "      <th>language</th>\n",
       "      <th>location</th>\n",
       "      <th>user_id</th>\n",
       "    </tr>\n",
       "  </thead>\n",
       "  <tbody>\n",
       "    <tr>\n",
       "      <th>620</th>\n",
       "      <td>Jenna_Marbles</td>\n",
       "      <td>2009-08-18 14:48:53</td>\n",
       "      <td>Jenna Marbles</td>\n",
       "      <td>76707</td>\n",
       "      <td>en</td>\n",
       "      <td>Horsehead Nebula</td>\n",
       "      <td>66699013</td>\n",
       "    </tr>\n",
       "    <tr>\n",
       "      <th>621</th>\n",
       "      <td>Jenna_Marbles</td>\n",
       "      <td>2009-08-18 14:48:53</td>\n",
       "      <td>Jenna Marbles</td>\n",
       "      <td>76707</td>\n",
       "      <td>en</td>\n",
       "      <td>Horsehead Nebula</td>\n",
       "      <td>66699013</td>\n",
       "    </tr>\n",
       "  </tbody>\n",
       "</table>\n",
       "</div>"
      ],
      "text/plain": [
       "      account_name          created_at   display_name  friends_count language  \\\n",
       "620  Jenna_Marbles 2009-08-18 14:48:53  Jenna Marbles          76707       en   \n",
       "621  Jenna_Marbles 2009-08-18 14:48:53  Jenna Marbles          76707       en   \n",
       "\n",
       "             location   user_id  \n",
       "620  Horsehead Nebula  66699013  \n",
       "621  Horsehead Nebula  66699013  "
      ]
     },
     "execution_count": 55,
     "metadata": {},
     "output_type": "execute_result"
    }
   ],
   "source": [
    "user_extract[user_extract['friends_count'] == 76707]"
   ]
  },
  {
   "cell_type": "markdown",
   "metadata": {},
   "source": [
    "This user is [Jenna Marbles](https://en.wikipedia.org/wiki/Jenna_Marbles), from the wikipedia page:\n",
    "> Jenna Nicole Mourey (born September 15, 1986, better known by her pseudonym Jenna Marbles, is an American YouTuber, vlogger, comedian, and actress. As of March 2018, her channel has over 2.6 billion video views and 18 million subscribers, making it the 45th most subscribed channel on YouTube and the eighth most popular channel operated by a woman. Marbles is the first social media star to have a wax figure displayed in Madame Tussauds Museum, located in New York City.\n",
    "\n",
    "It also looks like Jenna has been tagged in WeRateDogs tweets more than once since she has two data points. Also she's located in the Horsehead Nebula, must be nice.\n",
    "\n",
    "Just for fun, lets look at the most popular locations of the users that get tagged in WeRateDogs."
   ]
  },
  {
   "cell_type": "code",
   "execution_count": 56,
   "metadata": {},
   "outputs": [
    {
     "data": {
      "image/png": "[encoded data removed]",
      "text/plain": [
       "<matplotlib.figure.Figure at 0x179d5e55080>"
      ]
     },
     "metadata": {},
     "output_type": "display_data"
    }
   ],
   "source": [
    "plt.style.use('seaborn')\n",
    "location_ax = user_extract.location.value_counts()[1:49].plot(kind = \"bar\", figsize = (25,8))\n",
    "\n",
    "location_ax.set_title(\"Most Popular Locations from WeRateDogs Tagged Users\", fontsize = 24)\n",
    "location_ax.set_xlabel(\"\")\n",
    "plt.savefig('plots/popular_locations.png', bbox_inches='tight')"
   ]
  },
  {
   "cell_type": "markdown",
   "metadata": {},
   "source": [
    "Since many locations were not given from the users, and anything can be put in the location field on your profile, the data was a bit inconsistent. That said, it looks like out of the locations that were collected, Los Angeles, CA was the most popular location. Since there were so many different strings in the `locations` column, they would all be hard to display, so these are the top 50."
   ]
  },
  {
   "cell_type": "markdown",
   "metadata": {},
   "source": [
    "Let's now investigate if there are any frequently tagged users in the WeRateDogs twitter archive."
   ]
  },
  {
   "cell_type": "code",
   "execution_count": 410,
   "metadata": {},
   "outputs": [
    {
     "data": {
      "text/plain": [
       "jengolbeck       4\n",
       "matt___nelson    3\n",
       "Joshstram        2\n",
       "nick_rayy        2\n",
       "krista_thomas    2\n",
       "Name: account_name, dtype: int64"
      ]
     },
     "execution_count": 410,
     "metadata": {},
     "output_type": "execute_result"
    }
   ],
   "source": [
    "user_extract.account_name.value_counts().head()"
   ]
  },
  {
   "cell_type": "markdown",
   "metadata": {},
   "source": [
    "It looks like the user who gets tagged the most is jengolbeck, [here is her twitter profile](https://twitter.com/jengolbeck):\n",
    "> Prof @ UMD, Computer Scientist. Social media, research, science, truth, justice, the American way. I also run @theGoldenRatio4\n",
    "\n",
    "This user is Dr. Jen Golbeck, who happens to also run a fairly popular twitter profile [the golden ratio](https://twitter.com/theGoldenRatio4), it has over 43,000 followers!\n",
    "\n",
    "![golden ration](https://pbs.twimg.com/media/Dl2ukSxW0AApjAP.jpg:large)\n",
    "\n",
    "Awwww"
   ]
  }
 ],
 "metadata": {
  "kernelspec": {
   "display_name": "Python 3",
   "language": "python",
   "name": "python3"
  },
  "language_info": {
   "codemirror_mode": {
    "name": "ipython",
    "version": 3
   },
   "file_extension": ".py",
   "mimetype": "text/x-python",
   "name": "python",
   "nbconvert_exporter": "python",
   "pygments_lexer": "ipython3",
   "version": "3.6.4"
  }
 },
 "nbformat": 4,
 "nbformat_minor": 2
}
