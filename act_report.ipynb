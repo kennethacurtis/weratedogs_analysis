{
 "cells": [
  {
   "cell_type": "markdown",
   "metadata": {},
   "source": [
    "# Report: WeRateDogs Analyzation\n",
    "\n",
    "Gathering and cleaning this data allowed me to make some interesting insights about this data. When I first began my exploration, I noticed that one of the biggest values for the numerator of one of the scores was 1776, I had to investigate."
   ]
  },
  {
   "cell_type": "markdown",
   "metadata": {},
   "source": [
    "<blockquote class=\"twitter-tweet\" data-lang=\"en\"><p lang=\"en\" dir=\"ltr\">This is Atticus. He&#39;s quite simply America af. 1776/10 <a href=\"https://t.co/GRXwMxLBkh\">pic.twitter.com/GRXwMxLBkh</a></p>&mdash; WeRateDogs™ (@dog_rates) <a href=\"https://twitter.com/dog_rates/status/749981277374128128?ref_src=twsrc%5Etfw\">July 4, 2016</a></blockquote>\n",
    "<script async src=\"https://platform.twitter.com/widgets.js\" charset=\"utf-8\"></script>"
   ]
  },
  {
   "cell_type": "markdown",
   "metadata": {},
   "source": [
    "Very American indeed! The best part about this project was being able to look at all of the good dogs.\n",
    "\n",
    "Next, I searched for the dog with the highest retweets and favorites. This particular tweet had 84,387 retweets and 163,210 favorites."
   ]
  },
  {
   "cell_type": "markdown",
   "metadata": {},
   "source": [
    "<blockquote class=\"twitter-tweet\" data-lang=\"en\"><p lang=\"en\" dir=\"ltr\">Here&#39;s a doggo realizing you can stand in a pool. 13/10 enlightened af (vid by Tina Conrad) <a href=\"https://t.co/7wE9LTEXC4\">pic.twitter.com/7wE9LTEXC4</a></p>&mdash; WeRateDogs™ (@dog_rates) <a href=\"https://twitter.com/dog_rates/status/744234799360020481?ref_src=twsrc%5Etfw\">June 18, 2016</a></blockquote>\n",
    "<script async src=\"https://platform.twitter.com/widgets.js\" charset=\"utf-8\"></script>"
   ]
  },
  {
   "cell_type": "markdown",
   "metadata": {},
   "source": [
    "The most popular tweet in the archive is about a dog becoming so enlightened by standing in a pool!"
   ]
  },
  {
   "cell_type": "markdown",
   "metadata": {},
   "source": [
    "After finding very American and enlightened dogs, I moved onto analyzing which breeds of dogs received the highest rating. To establish a common rating system, I divided the numerator and the denominator of all the ratings. Most of the dogs had a rating score of over 1 because [they're good dogs brent](https://knowyourmeme.com/memes/theyre-good-dogs-brent). Let's look at the dogs with the highest score rating (besides the American dog). We will look at which breeds of dogs have the highest scores. Since there are so many different breeds, I will focus on the top 50.\n",
    "\n",
    "![](https://i.imgur.com/ab2HuLX.png)"
   ]
  },
  {
   "cell_type": "markdown",
   "metadata": {},
   "source": [
    "The Saluki breed looks to be the top rated. All of the breeds listed here were very close together as far as rating score goes. Here is what a Saluki dog breed looks like.\n",
    "\n",
    "![saluki](https://s3.amazonaws.com/cdn-origin-etr.akc.org/wp-content/uploads/2017/11/12224803/Saluki-On-White-01.jpg)\n",
    "\n",
    "According to the [wikipedia page](https://en.wikipedia.org/wiki/Saluki):\n",
    "> The Saluki is a dog originally bred in the Fertile Crescent. The saluki is classed as a sighthound and is typically deep-chested and long-legged. Salukis are sighthounds—hunting by sight—and run their quarry down to kill or retrieve it. Historically, salukis were used for hunting by nomadic tribes. Typical quarry included the gazelle, hare, fox, and jackal.\n",
    "\n",
    "After this discovery I was curious at how many \"Saluki\" dog breeds were identified in the image prediction algorithm. It turns out there were only four."
   ]
  },
  {
   "cell_type": "markdown",
   "metadata": {},
   "source": [
    "<img src=\"https://pbs.twimg.com/media/DDxPFwbWAAEbVVR.jpg\" alt=\"saluki1\" width=\"300\"/> <img src=\"https://pbs.twimg.com/media/DCza_vtXkAQXGpC.jpg\" alt=\"saluki2\" width=\"300\"/> <img src=\"https://pbs.twimg.com/media/C1b_LSYUsAAJ494.jpg\" alt=\"saluki3\" width=\"500\"/> <img src=\"https://pbs.twimg.com/media/Cmfx2oNW8AAGg4H.jpg\" alt=\"saluki4\" width=\"300\"/>"
   ]
  },
  {
   "cell_type": "markdown",
   "metadata": {},
   "source": [
    "It looks like the algorithm was not correct in 3 of 4 of these photos. These results made me curious about the confidence level of each breed.\n",
    "\n",
    "![](https://i.imgur.com/5EkciMW.png)"
   ]
  },
  {
   "cell_type": "markdown",
   "metadata": {},
   "source": [
    "Interestingly, the Komondor breed had the highest average confidence level from the algorithm used. This breed of dog is very identifiable by it's mane.\n",
    "\n",
    "![komondor](https://upload.wikimedia.org/wikipedia/commons/thumb/6/66/Komondor_dog_breed.jpg/280px-Komondor_dog_breed.jpg)\n",
    "\n",
    "Now, let's see which category of dogs has the highest average score rating. And by category, I mean doggo, pupper, puppo, or floofer. Here is a dictionary if you are not familiar with those terms.\n",
    "\n",
    "![dogtionary](https://d17h27t6h515a5.cloudfront.net/topher/2017/October/59e04ceb_dogtionary-combined/dogtionary-combined.png)\n",
    "\n",
    "I grouped all of the dog category names in the data set, and then averaged the scores of each.\n",
    "\n",
    "![](https://i.imgur.com/TeIoH43.png)\n",
    "\n",
    "Looks like puppo's have the highest average score rating."
   ]
  },
  {
   "cell_type": "markdown",
   "metadata": {},
   "source": [
    "Now that I had a few interesting insights from the twitter archive, I wanted turn to the user data that I extracted. First, I looked at which user had the highest friend count that was tagged in a WeRateDogs tweet.\n",
    "\n",
    "This user is [Jenna Marbles](https://en.wikipedia.org/wiki/Jenna_Marbles), from the wikipedia page:\n",
    "> Jenna Nicole Mourey (born September 15, 1986, better known by her pseudonym Jenna Marbles, is an American YouTuber, vlogger, comedian, and actress. As of March 2018, her channel has over 2.6 billion video views and 18 million subscribers, making it the 45th most subscribed channel on YouTube and the eighth most popular channel operated by a woman. Marbles is the first social media star to have a wax figure displayed in Madame Tussauds Museum, located in New York City.\n",
    "\n",
    "It also looks like Jenna has been tagged in WeRateDogs tweets more than once since she has two data points. Also she's located in the Horsehead Nebula, must be nice."
   ]
  },
  {
   "cell_type": "markdown",
   "metadata": {},
   "source": [
    "<blockquote class=\"twitter-tweet\" data-lang=\"en\"><p lang=\"en\" dir=\"ltr\">This is Cermet, Paesh, and Morple. They are absolute h*ckin superstars. Watered every day so they can grow. 14/10 for all <a href=\"https://t.co/GUefqUmZv8\">pic.twitter.com/GUefqUmZv8</a></p>&mdash; WeRateDogs™ (@dog_rates) <a href=\"https://twitter.com/dog_rates/status/856282028240666624?ref_src=twsrc%5Etfw\">April 23, 2017</a></blockquote>\n",
    "<script async src=\"https://platform.twitter.com/widgets.js\" charset=\"utf-8\"></script>\n"
   ]
  },
  {
   "cell_type": "markdown",
   "metadata": {},
   "source": [
    "Just for fun, I wanted to look at the most popular locations of the users. This plot turned out to be humorous at certain points because on twitter, you are allowed to put anything you want in the \"location\" part of your biography. Even though this was the case, most individuals put real locations for their profiles.\n",
    "\n",
    "![](https://i.imgur.com/QUfxSwW.png)\n",
    "\n",
    "It looks like out of the locations that were collected, Los Angeles, CA was the most popular location. Since there were so many different strings in the locations column, they would all be hard to display, so these are the top 50."
   ]
  },
  {
   "cell_type": "markdown",
   "metadata": {},
   "source": [
    "Finally, I wanted to investigate if there were any users that were frequently tagged in WeRateDogs tweets. It turns out that user was jengolbeck, [here is her twitter profile](https://twitter.com/jengolbeck):\n",
    "> Prof @ UMD, Computer Scientist. Social media, research, science, truth, justice, the American way. I also run @theGoldenRatio4\n",
    "\n",
    "This user is Dr. Jen Golbeck, who happens to also run a fairly popular twitter profile [the golden ratio](https://twitter.com/theGoldenRatio4), it has over 43,000 followers!\n",
    "\n",
    "![golden ration](https://pbs.twimg.com/media/Dl2ukSxW0AApjAP.jpg:large)\n",
    "\n",
    "Awwww"
   ]
  }
 ],
 "metadata": {
  "kernelspec": {
   "display_name": "Python 3",
   "language": "python",
   "name": "python3"
  },
  "language_info": {
   "codemirror_mode": {
    "name": "ipython",
    "version": 3
   },
   "file_extension": ".py",
   "mimetype": "text/x-python",
   "name": "python",
   "nbconvert_exporter": "python",
   "pygments_lexer": "ipython3",
   "version": "3.6.4"
  }
 },
 "nbformat": 4,
 "nbformat_minor": 2
}
